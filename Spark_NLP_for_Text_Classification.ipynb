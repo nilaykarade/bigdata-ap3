{
  "cells": [
    {
      "cell_type": "markdown",
      "source": [
        "### Use Spark NLP for Text Classification\n",
        "\n",
        "* Spark NLP is an open-source text processing library for advanced natural language processing for the Python, Java and Scala programming languages.\n",
        "\n",
        "* The library is built on top of Apache Spark and its Spark ML library.\n",
        "\n",
        "\n",
        "* We will learn how to use Spark NLP for text preprocessing and build machine learning models to classify text into different categories."
      ],
      "metadata": {
        "id": "eXO0IzY8dL0k"
      }
    },
    {
      "cell_type": "code",
      "source": [
        "#Install Java Development kit for Spark\n",
        "!apt-get install openjdk-8-jdk"
      ],
      "metadata": {
        "colab": {
          "base_uri": "https://localhost:8080/"
        },
        "id": "bcqBoeWgPYql",
        "outputId": "71295573-f8ad-4e0d-d58c-a7a743c10405"
      },
      "execution_count": 14,
      "outputs": [
        {
          "output_type": "stream",
          "name": "stdout",
          "text": [
            "Reading package lists... Done\n",
            "Building dependency tree... Done\n",
            "Reading state information... Done\n",
            "The following additional packages will be installed:\n",
            "  fonts-dejavu-core fonts-dejavu-extra libatk-wrapper-java\n",
            "  libatk-wrapper-java-jni libfontenc1 libgail-common libgail18 libgtk2.0-0\n",
            "  libgtk2.0-bin libgtk2.0-common libice-dev librsvg2-common libsm-dev\n",
            "  libxkbfile1 libxt-dev libxtst6 libxxf86dga1 openjdk-8-jdk-headless\n",
            "  openjdk-8-jre openjdk-8-jre-headless x11-utils\n",
            "Suggested packages:\n",
            "  gvfs libice-doc libsm-doc libxt-doc openjdk-8-demo openjdk-8-source visualvm\n",
            "  libnss-mdns fonts-nanum fonts-ipafont-gothic fonts-ipafont-mincho\n",
            "  fonts-wqy-microhei fonts-wqy-zenhei fonts-indic mesa-utils\n",
            "The following NEW packages will be installed:\n",
            "  fonts-dejavu-core fonts-dejavu-extra libatk-wrapper-java\n",
            "  libatk-wrapper-java-jni libfontenc1 libgail-common libgail18 libgtk2.0-0\n",
            "  libgtk2.0-bin libgtk2.0-common libice-dev librsvg2-common libsm-dev\n",
            "  libxkbfile1 libxt-dev libxtst6 libxxf86dga1 openjdk-8-jdk\n",
            "  openjdk-8-jdk-headless openjdk-8-jre openjdk-8-jre-headless x11-utils\n",
            "0 upgraded, 22 newly installed, 0 to remove and 18 not upgraded.\n",
            "Need to get 50.0 MB of archives.\n",
            "After this operation, 169 MB of additional disk space will be used.\n",
            "Get:1 http://archive.ubuntu.com/ubuntu jammy/main amd64 fonts-dejavu-core all 2.37-2build1 [1,041 kB]\n",
            "Get:2 http://archive.ubuntu.com/ubuntu jammy/main amd64 fonts-dejavu-extra all 2.37-2build1 [2,041 kB]\n",
            "Get:3 http://archive.ubuntu.com/ubuntu jammy/main amd64 libfontenc1 amd64 1:1.1.4-1build3 [14.7 kB]\n",
            "Get:4 http://archive.ubuntu.com/ubuntu jammy/main amd64 libxkbfile1 amd64 1:1.1.0-1build3 [71.8 kB]\n",
            "Get:5 http://archive.ubuntu.com/ubuntu jammy/main amd64 libxtst6 amd64 2:1.2.3-1build4 [13.4 kB]\n",
            "Get:6 http://archive.ubuntu.com/ubuntu jammy/main amd64 libxxf86dga1 amd64 2:1.1.5-0ubuntu3 [12.6 kB]\n",
            "Get:7 http://archive.ubuntu.com/ubuntu jammy/main amd64 x11-utils amd64 7.7+5build2 [206 kB]\n",
            "Get:8 http://archive.ubuntu.com/ubuntu jammy/main amd64 libatk-wrapper-java all 0.38.0-5build1 [53.1 kB]\n",
            "Get:9 http://archive.ubuntu.com/ubuntu jammy/main amd64 libatk-wrapper-java-jni amd64 0.38.0-5build1 [49.0 kB]\n",
            "Get:10 http://archive.ubuntu.com/ubuntu jammy/main amd64 libgtk2.0-common all 2.24.33-2ubuntu2 [125 kB]\n",
            "Get:11 http://archive.ubuntu.com/ubuntu jammy/main amd64 libgtk2.0-0 amd64 2.24.33-2ubuntu2 [2,037 kB]\n",
            "Get:12 http://archive.ubuntu.com/ubuntu jammy/main amd64 libgail18 amd64 2.24.33-2ubuntu2 [15.9 kB]\n",
            "Get:13 http://archive.ubuntu.com/ubuntu jammy/main amd64 libgail-common amd64 2.24.33-2ubuntu2 [132 kB]\n",
            "Get:14 http://archive.ubuntu.com/ubuntu jammy/main amd64 libgtk2.0-bin amd64 2.24.33-2ubuntu2 [7,932 B]\n",
            "Get:15 http://archive.ubuntu.com/ubuntu jammy/main amd64 libice-dev amd64 2:1.0.10-1build2 [51.4 kB]\n",
            "Get:16 http://archive.ubuntu.com/ubuntu jammy-updates/main amd64 librsvg2-common amd64 2.52.5+dfsg-3ubuntu0.2 [17.7 kB]\n",
            "Get:17 http://archive.ubuntu.com/ubuntu jammy/main amd64 libsm-dev amd64 2:1.2.3-1build2 [18.1 kB]\n",
            "Get:18 http://archive.ubuntu.com/ubuntu jammy/main amd64 libxt-dev amd64 1:1.2.1-1 [396 kB]\n",
            "Get:19 http://archive.ubuntu.com/ubuntu jammy-updates/universe amd64 openjdk-8-jre-headless amd64 8u382-ga-1~22.04.1 [30.8 MB]\n",
            "Get:20 http://archive.ubuntu.com/ubuntu jammy-updates/universe amd64 openjdk-8-jre amd64 8u382-ga-1~22.04.1 [75.4 kB]\n",
            "Get:21 http://archive.ubuntu.com/ubuntu jammy-updates/universe amd64 openjdk-8-jdk-headless amd64 8u382-ga-1~22.04.1 [8,851 kB]\n",
            "Get:22 http://archive.ubuntu.com/ubuntu jammy-updates/universe amd64 openjdk-8-jdk amd64 8u382-ga-1~22.04.1 [3,943 kB]\n",
            "Fetched 50.0 MB in 2s (25.9 MB/s)\n",
            "Selecting previously unselected package fonts-dejavu-core.\n",
            "(Reading database ... 120879 files and directories currently installed.)\n",
            "Preparing to unpack .../00-fonts-dejavu-core_2.37-2build1_all.deb ...\n",
            "Unpacking fonts-dejavu-core (2.37-2build1) ...\n",
            "Selecting previously unselected package fonts-dejavu-extra.\n",
            "Preparing to unpack .../01-fonts-dejavu-extra_2.37-2build1_all.deb ...\n",
            "Unpacking fonts-dejavu-extra (2.37-2build1) ...\n",
            "Selecting previously unselected package libfontenc1:amd64.\n",
            "Preparing to unpack .../02-libfontenc1_1%3a1.1.4-1build3_amd64.deb ...\n",
            "Unpacking libfontenc1:amd64 (1:1.1.4-1build3) ...\n",
            "Selecting previously unselected package libxkbfile1:amd64.\n",
            "Preparing to unpack .../03-libxkbfile1_1%3a1.1.0-1build3_amd64.deb ...\n",
            "Unpacking libxkbfile1:amd64 (1:1.1.0-1build3) ...\n",
            "Selecting previously unselected package libxtst6:amd64.\n",
            "Preparing to unpack .../04-libxtst6_2%3a1.2.3-1build4_amd64.deb ...\n",
            "Unpacking libxtst6:amd64 (2:1.2.3-1build4) ...\n",
            "Selecting previously unselected package libxxf86dga1:amd64.\n",
            "Preparing to unpack .../05-libxxf86dga1_2%3a1.1.5-0ubuntu3_amd64.deb ...\n",
            "Unpacking libxxf86dga1:amd64 (2:1.1.5-0ubuntu3) ...\n",
            "Selecting previously unselected package x11-utils.\n",
            "Preparing to unpack .../06-x11-utils_7.7+5build2_amd64.deb ...\n",
            "Unpacking x11-utils (7.7+5build2) ...\n",
            "Selecting previously unselected package libatk-wrapper-java.\n",
            "Preparing to unpack .../07-libatk-wrapper-java_0.38.0-5build1_all.deb ...\n",
            "Unpacking libatk-wrapper-java (0.38.0-5build1) ...\n",
            "Selecting previously unselected package libatk-wrapper-java-jni:amd64.\n",
            "Preparing to unpack .../08-libatk-wrapper-java-jni_0.38.0-5build1_amd64.deb ...\n",
            "Unpacking libatk-wrapper-java-jni:amd64 (0.38.0-5build1) ...\n",
            "Selecting previously unselected package libgtk2.0-common.\n",
            "Preparing to unpack .../09-libgtk2.0-common_2.24.33-2ubuntu2_all.deb ...\n",
            "Unpacking libgtk2.0-common (2.24.33-2ubuntu2) ...\n",
            "Selecting previously unselected package libgtk2.0-0:amd64.\n",
            "Preparing to unpack .../10-libgtk2.0-0_2.24.33-2ubuntu2_amd64.deb ...\n",
            "Unpacking libgtk2.0-0:amd64 (2.24.33-2ubuntu2) ...\n",
            "Selecting previously unselected package libgail18:amd64.\n",
            "Preparing to unpack .../11-libgail18_2.24.33-2ubuntu2_amd64.deb ...\n",
            "Unpacking libgail18:amd64 (2.24.33-2ubuntu2) ...\n",
            "Selecting previously unselected package libgail-common:amd64.\n",
            "Preparing to unpack .../12-libgail-common_2.24.33-2ubuntu2_amd64.deb ...\n",
            "Unpacking libgail-common:amd64 (2.24.33-2ubuntu2) ...\n",
            "Selecting previously unselected package libgtk2.0-bin.\n",
            "Preparing to unpack .../13-libgtk2.0-bin_2.24.33-2ubuntu2_amd64.deb ...\n",
            "Unpacking libgtk2.0-bin (2.24.33-2ubuntu2) ...\n",
            "Selecting previously unselected package libice-dev:amd64.\n",
            "Preparing to unpack .../14-libice-dev_2%3a1.0.10-1build2_amd64.deb ...\n",
            "Unpacking libice-dev:amd64 (2:1.0.10-1build2) ...\n",
            "Selecting previously unselected package librsvg2-common:amd64.\n",
            "Preparing to unpack .../15-librsvg2-common_2.52.5+dfsg-3ubuntu0.2_amd64.deb ...\n",
            "Unpacking librsvg2-common:amd64 (2.52.5+dfsg-3ubuntu0.2) ...\n",
            "Selecting previously unselected package libsm-dev:amd64.\n",
            "Preparing to unpack .../16-libsm-dev_2%3a1.2.3-1build2_amd64.deb ...\n",
            "Unpacking libsm-dev:amd64 (2:1.2.3-1build2) ...\n",
            "Selecting previously unselected package libxt-dev:amd64.\n",
            "Preparing to unpack .../17-libxt-dev_1%3a1.2.1-1_amd64.deb ...\n",
            "Unpacking libxt-dev:amd64 (1:1.2.1-1) ...\n",
            "Selecting previously unselected package openjdk-8-jre-headless:amd64.\n",
            "Preparing to unpack .../18-openjdk-8-jre-headless_8u382-ga-1~22.04.1_amd64.deb ...\n",
            "Unpacking openjdk-8-jre-headless:amd64 (8u382-ga-1~22.04.1) ...\n",
            "Selecting previously unselected package openjdk-8-jre:amd64.\n",
            "Preparing to unpack .../19-openjdk-8-jre_8u382-ga-1~22.04.1_amd64.deb ...\n",
            "Unpacking openjdk-8-jre:amd64 (8u382-ga-1~22.04.1) ...\n",
            "Selecting previously unselected package openjdk-8-jdk-headless:amd64.\n",
            "Preparing to unpack .../20-openjdk-8-jdk-headless_8u382-ga-1~22.04.1_amd64.deb ...\n",
            "Unpacking openjdk-8-jdk-headless:amd64 (8u382-ga-1~22.04.1) ...\n",
            "Selecting previously unselected package openjdk-8-jdk:amd64.\n",
            "Preparing to unpack .../21-openjdk-8-jdk_8u382-ga-1~22.04.1_amd64.deb ...\n",
            "Unpacking openjdk-8-jdk:amd64 (8u382-ga-1~22.04.1) ...\n",
            "Setting up libice-dev:amd64 (2:1.0.10-1build2) ...\n",
            "Setting up libsm-dev:amd64 (2:1.2.3-1build2) ...\n",
            "Setting up libxtst6:amd64 (2:1.2.3-1build4) ...\n",
            "Setting up libxxf86dga1:amd64 (2:1.1.5-0ubuntu3) ...\n",
            "Setting up libfontenc1:amd64 (1:1.1.4-1build3) ...\n",
            "Setting up libxt-dev:amd64 (1:1.2.1-1) ...\n",
            "Setting up openjdk-8-jre-headless:amd64 (8u382-ga-1~22.04.1) ...\n",
            "update-alternatives: using /usr/lib/jvm/java-8-openjdk-amd64/jre/bin/orbd to provide /usr/bin/orbd (orbd) in auto mode\n",
            "update-alternatives: using /usr/lib/jvm/java-8-openjdk-amd64/jre/bin/servertool to provide /usr/bin/servertool (servertool) in auto mode\n",
            "update-alternatives: using /usr/lib/jvm/java-8-openjdk-amd64/jre/bin/tnameserv to provide /usr/bin/tnameserv (tnameserv) in auto mode\n",
            "Setting up fonts-dejavu-core (2.37-2build1) ...\n",
            "Setting up librsvg2-common:amd64 (2.52.5+dfsg-3ubuntu0.2) ...\n",
            "Setting up fonts-dejavu-extra (2.37-2build1) ...\n",
            "Setting up libgtk2.0-common (2.24.33-2ubuntu2) ...\n",
            "Setting up libxkbfile1:amd64 (1:1.1.0-1build3) ...\n",
            "Setting up libgtk2.0-0:amd64 (2.24.33-2ubuntu2) ...\n",
            "Setting up openjdk-8-jdk-headless:amd64 (8u382-ga-1~22.04.1) ...\n",
            "update-alternatives: using /usr/lib/jvm/java-8-openjdk-amd64/bin/clhsdb to provide /usr/bin/clhsdb (clhsdb) in auto mode\n",
            "update-alternatives: using /usr/lib/jvm/java-8-openjdk-amd64/bin/extcheck to provide /usr/bin/extcheck (extcheck) in auto mode\n",
            "update-alternatives: using /usr/lib/jvm/java-8-openjdk-amd64/bin/hsdb to provide /usr/bin/hsdb (hsdb) in auto mode\n",
            "update-alternatives: using /usr/lib/jvm/java-8-openjdk-amd64/bin/idlj to provide /usr/bin/idlj (idlj) in auto mode\n",
            "update-alternatives: using /usr/lib/jvm/java-8-openjdk-amd64/bin/javah to provide /usr/bin/javah (javah) in auto mode\n",
            "update-alternatives: using /usr/lib/jvm/java-8-openjdk-amd64/bin/jhat to provide /usr/bin/jhat (jhat) in auto mode\n",
            "update-alternatives: using /usr/lib/jvm/java-8-openjdk-amd64/bin/jsadebugd to provide /usr/bin/jsadebugd (jsadebugd) in auto mode\n",
            "update-alternatives: using /usr/lib/jvm/java-8-openjdk-amd64/bin/native2ascii to provide /usr/bin/native2ascii (native2ascii) in auto mode\n",
            "update-alternatives: using /usr/lib/jvm/java-8-openjdk-amd64/bin/schemagen to provide /usr/bin/schemagen (schemagen) in auto mode\n",
            "update-alternatives: using /usr/lib/jvm/java-8-openjdk-amd64/bin/wsgen to provide /usr/bin/wsgen (wsgen) in auto mode\n",
            "update-alternatives: using /usr/lib/jvm/java-8-openjdk-amd64/bin/wsimport to provide /usr/bin/wsimport (wsimport) in auto mode\n",
            "update-alternatives: using /usr/lib/jvm/java-8-openjdk-amd64/bin/xjc to provide /usr/bin/xjc (xjc) in auto mode\n",
            "Setting up libgail18:amd64 (2.24.33-2ubuntu2) ...\n",
            "Setting up libgtk2.0-bin (2.24.33-2ubuntu2) ...\n",
            "Setting up x11-utils (7.7+5build2) ...\n",
            "Setting up libatk-wrapper-java (0.38.0-5build1) ...\n",
            "Setting up libgail-common:amd64 (2.24.33-2ubuntu2) ...\n",
            "Setting up libatk-wrapper-java-jni:amd64 (0.38.0-5build1) ...\n",
            "Setting up openjdk-8-jre:amd64 (8u382-ga-1~22.04.1) ...\n",
            "update-alternatives: using /usr/lib/jvm/java-8-openjdk-amd64/jre/bin/policytool to provide /usr/bin/policytool (policytool) in auto mode\n",
            "Setting up openjdk-8-jdk:amd64 (8u382-ga-1~22.04.1) ...\n",
            "update-alternatives: using /usr/lib/jvm/java-8-openjdk-amd64/bin/appletviewer to provide /usr/bin/appletviewer (appletviewer) in auto mode\n",
            "update-alternatives: using /usr/lib/jvm/java-8-openjdk-amd64/bin/jconsole to provide /usr/bin/jconsole (jconsole) in auto mode\n",
            "Processing triggers for hicolor-icon-theme (0.17-2) ...\n",
            "Processing triggers for libc-bin (2.35-0ubuntu3.1) ...\n",
            "/sbin/ldconfig.real: /usr/local/lib/libtbbbind_2_5.so.3 is not a symbolic link\n",
            "\n",
            "/sbin/ldconfig.real: /usr/local/lib/libtbb.so.12 is not a symbolic link\n",
            "\n",
            "/sbin/ldconfig.real: /usr/local/lib/libtbbmalloc_proxy.so.2 is not a symbolic link\n",
            "\n",
            "/sbin/ldconfig.real: /usr/local/lib/libtbbmalloc.so.2 is not a symbolic link\n",
            "\n",
            "/sbin/ldconfig.real: /usr/local/lib/libtbbbind_2_0.so.3 is not a symbolic link\n",
            "\n",
            "/sbin/ldconfig.real: /usr/local/lib/libtbbbind.so.3 is not a symbolic link\n",
            "\n",
            "Processing triggers for man-db (2.10.2-1) ...\n",
            "Processing triggers for libgdk-pixbuf-2.0-0:amd64 (2.42.8+dfsg-1ubuntu0.2) ...\n",
            "Processing triggers for fontconfig (2.13.1-4.2ubuntu5) ...\n"
          ]
        }
      ]
    },
    {
      "cell_type": "code",
      "source": [
        "import os\n",
        "#Set the JAVA_HOME env variable\n",
        "os.environ[\"JAVA_HOME\"]=\"/usr/lib/jvm/java-8-openjdk-amd64\""
      ],
      "metadata": {
        "id": "Quy2Y0UHfrZW"
      },
      "execution_count": 15,
      "outputs": []
    },
    {
      "cell_type": "code",
      "source": [
        "#Current working directory\n",
        "!pwd"
      ],
      "metadata": {
        "colab": {
          "base_uri": "https://localhost:8080/"
        },
        "id": "iqqdnnonfrWX",
        "outputId": "4813030e-c876-4cb5-b4a2-cff44cf0360e"
      },
      "execution_count": 16,
      "outputs": [
        {
          "output_type": "stream",
          "name": "stdout",
          "text": [
            "/content\n"
          ]
        }
      ]
    },
    {
      "cell_type": "code",
      "source": [
        "!echo $JAVA_HOME"
      ],
      "metadata": {
        "colab": {
          "base_uri": "https://localhost:8080/"
        },
        "id": "6mK1F5XmfrRV",
        "outputId": "aa14c324-78a9-4894-f3e6-1e80bfa6bc7e"
      },
      "execution_count": 17,
      "outputs": [
        {
          "output_type": "stream",
          "name": "stdout",
          "text": [
            "/usr/lib/jvm/java-8-openjdk-amd64\n"
          ]
        }
      ]
    },
    {
      "cell_type": "code",
      "source": [
        "#Install PySpark with latest version\n",
        "!pip install pyspark==3.0.0"
      ],
      "metadata": {
        "colab": {
          "base_uri": "https://localhost:8080/"
        },
        "id": "uirhB9jGfrLK",
        "outputId": "d70d1c00-ebba-4891-e200-bccd4ddb0ccf"
      },
      "execution_count": 9,
      "outputs": [
        {
          "output_type": "stream",
          "name": "stdout",
          "text": [
            "Collecting pyspark==3.0.0\n",
            "  Downloading pyspark-3.0.0.tar.gz (204.7 MB)\n",
            "\u001b[2K     \u001b[90m━━━━━━━━━━━━━━━━━━━━━━━━━━━━━━━━━━━━━━━\u001b[0m \u001b[32m204.7/204.7 MB\u001b[0m \u001b[31m6.0 MB/s\u001b[0m eta \u001b[36m0:00:00\u001b[0m\n",
            "\u001b[?25h  Preparing metadata (setup.py) ... \u001b[?25l\u001b[?25hdone\n",
            "Collecting py4j==0.10.9 (from pyspark==3.0.0)\n",
            "  Downloading py4j-0.10.9-py2.py3-none-any.whl (198 kB)\n",
            "\u001b[2K     \u001b[90m━━━━━━━━━━━━━━━━━━━━━━━━━━━━━━━━━━━━━━\u001b[0m \u001b[32m198.6/198.6 kB\u001b[0m \u001b[31m26.5 MB/s\u001b[0m eta \u001b[36m0:00:00\u001b[0m\n",
            "\u001b[?25hBuilding wheels for collected packages: pyspark\n",
            "  Building wheel for pyspark (setup.py) ... \u001b[?25l\u001b[?25hdone\n",
            "  Created wheel for pyspark: filename=pyspark-3.0.0-py2.py3-none-any.whl size=205044159 sha256=a9ddabaa98b0912e6541d2d9ad6812a81de675cc7737b4b465b99daf17db58de\n",
            "  Stored in directory: /root/.cache/pip/wheels/b1/bb/8b/ca24d3f756f2ed967225b0871898869db676eb5846df5adc56\n",
            "Successfully built pyspark\n",
            "Installing collected packages: py4j, pyspark\n",
            "  Attempting uninstall: py4j\n",
            "    Found existing installation: py4j 0.10.9.7\n",
            "    Uninstalling py4j-0.10.9.7:\n",
            "      Successfully uninstalled py4j-0.10.9.7\n",
            "Successfully installed py4j-0.10.9 pyspark-3.0.0\n"
          ]
        }
      ]
    },
    {
      "cell_type": "code",
      "source": [
        "# Install Spark NLP\n",
        "!pip install spark-nlp"
      ],
      "metadata": {
        "colab": {
          "base_uri": "https://localhost:8080/"
        },
        "id": "mZ59YNnPf00r",
        "outputId": "fe3a7315-a7d6-4411-91e2-18b53395d97d"
      },
      "execution_count": 10,
      "outputs": [
        {
          "output_type": "stream",
          "name": "stdout",
          "text": [
            "Collecting spark-nlp\n",
            "  Downloading spark_nlp-5.1.2-py2.py3-none-any.whl (536 kB)\n",
            "\u001b[?25l     \u001b[90m━━━━━━━━━━━━━━━━━━━━━━━━━━━━━━━━━━━━━━━━\u001b[0m \u001b[32m0.0/536.3 kB\u001b[0m \u001b[31m?\u001b[0m eta \u001b[36m-:--:--\u001b[0m\r\u001b[2K     \u001b[91m━━━━━━━━\u001b[0m\u001b[91m╸\u001b[0m\u001b[90m━━━━━━━━━━━━━━━━━━━━━━━━━━━━━━\u001b[0m \u001b[32m122.9/536.3 kB\u001b[0m \u001b[31m3.5 MB/s\u001b[0m eta \u001b[36m0:00:01\u001b[0m\r\u001b[2K     \u001b[90m━━━━━━━━━━━━━━━━━━━━━━━━━━━━━━━━━━━━━━━\u001b[0m \u001b[32m536.3/536.3 kB\u001b[0m \u001b[31m8.7 MB/s\u001b[0m eta \u001b[36m0:00:00\u001b[0m\n",
            "\u001b[?25hInstalling collected packages: spark-nlp\n",
            "Successfully installed spark-nlp-5.1.2\n"
          ]
        }
      ]
    },
    {
      "cell_type": "code",
      "source": [
        "# Import modules\n",
        "import os\n",
        "import re\n",
        "import matplotlib.pyplot as plt\n",
        "import numpy as np\n",
        "import pandas as pd\n",
        "from pyspark.sql.types import *\n",
        "from pyspark.sql.functions import expr\n",
        "from pyspark.sql import functions as fun\n",
        "from pyspark.sql import Row\n",
        "from pyspark.ml import Pipeline\n",
        "from pyspark.ml.feature import *\n",
        "import sparknlp\n",
        "from sparknlp import DocumentAssembler, Finisher\n",
        "from sparknlp.annotator import *\n",
        "from pyspark.ml.classification import *\n",
        "from pyspark.ml.tuning import *\n",
        "from pyspark.ml.evaluation import *"
      ],
      "metadata": {
        "id": "OaI49cH8PqZ4"
      },
      "execution_count": 18,
      "outputs": []
    },
    {
      "cell_type": "markdown",
      "metadata": {
        "id": "kPag4KezvY6m"
      },
      "source": [
        "## BBC News Summary Dataset\n",
        "\n",
        "Sources: https://www.kaggle.com/datasets/pariza/bbc-news-summary; http://mlg.ucd.ie/datasets/bbc.html\n",
        "\n",
        "\\\n",
        "The dataset consists of 2225 documents from the BBC news website corresponding to stories in five topical areas from 2004-2005. There are five class Labels: business, entertainment, politics, sport, and tech.\n",
        "\n",
        "\\\n",
        "Dataset structure:\n",
        "\n",
        "\\\n",
        "* News Articles\n",
        "  * business (txt files, e.g., 001.txt)\n",
        "  * entertainment (txt files)\n",
        "  * politics (txt files)\n",
        "  * sport (txt files)\n",
        "  * tech (txt files)\n",
        "\n",
        "\\\n",
        "* Summaries\n",
        "  * business (txt files, e.g., 001.txt)\n",
        "  * entertainment (txt files)\n",
        "  * politics (txt files)\n",
        "  * sport (txt files)\n",
        "  * tech (txt files)"
      ]
    },
    {
      "cell_type": "code",
      "source": [
        "#mount your drive\n",
        "from google.colab import drive\n",
        "drive.mount('/content/drive')\n"
      ],
      "metadata": {
        "colab": {
          "base_uri": "https://localhost:8080/"
        },
        "id": "_hwqTGgOf9D6",
        "outputId": "458e6579-8b92-4796-d862-a0cf012944c2"
      },
      "execution_count": 19,
      "outputs": [
        {
          "output_type": "stream",
          "name": "stdout",
          "text": [
            "Drive already mounted at /content/drive; to attempt to forcibly remount, call drive.mount(\"/content/drive\", force_remount=True).\n"
          ]
        }
      ]
    },
    {
      "cell_type": "code",
      "source": [
        "root = '/content/drive/My Drive/BBC News Summary/Summaries/'"
      ],
      "metadata": {
        "id": "JVZc-suVgjyA"
      },
      "execution_count": 20,
      "outputs": []
    },
    {
      "cell_type": "code",
      "source": [
        "import os\n",
        "for path, subdirs, files in os.walk(root):\n",
        "  for name in files:\n",
        "    print(name)"
      ],
      "metadata": {
        "colab": {
          "base_uri": "https://localhost:8080/"
        },
        "id": "LzaveUVrf88q",
        "outputId": "35362a33-78db-4b6d-eef8-d8f5ca07d23a"
      },
      "execution_count": 21,
      "outputs": [
        {
          "output_type": "stream",
          "name": "stdout",
          "text": [
            "005.txt\n",
            "001.txt\n",
            "004.txt\n",
            "002.txt\n",
            "003.txt\n",
            "028.txt\n",
            "030.txt\n",
            "024.txt\n",
            "017.txt\n",
            "012.txt\n",
            "025.txt\n",
            "021.txt\n",
            "011.txt\n",
            "013.txt\n",
            "032.txt\n",
            "016.txt\n",
            "007.txt\n",
            "020.txt\n",
            "033.txt\n",
            "029.txt\n",
            "019.txt\n",
            "022.txt\n",
            "018.txt\n",
            "008.txt\n",
            "036.txt\n",
            "014.txt\n",
            "009.txt\n",
            "023.txt\n",
            "034.txt\n",
            "006.txt\n",
            "039.txt\n",
            "010.txt\n",
            "015.txt\n",
            "026.txt\n",
            "035.txt\n",
            "027.txt\n",
            "037.txt\n",
            "031.txt\n",
            "038.txt\n",
            "040.txt\n",
            "070.txt\n",
            "057.txt\n",
            "054.txt\n",
            "043.txt\n",
            "060.txt\n",
            "051.txt\n",
            "073.txt\n",
            "068.txt\n",
            "050.txt\n",
            "061.txt\n",
            "071.txt\n",
            "055.txt\n",
            "065.txt\n",
            "042.txt\n",
            "041.txt\n",
            "063.txt\n",
            "046.txt\n",
            "052.txt\n",
            "072.txt\n",
            "048.txt\n",
            "074.txt\n",
            "053.txt\n",
            "059.txt\n",
            "049.txt\n",
            "047.txt\n",
            "069.txt\n",
            "066.txt\n",
            "044.txt\n",
            "058.txt\n",
            "067.txt\n",
            "045.txt\n",
            "062.txt\n",
            "056.txt\n",
            "064.txt\n",
            "089.txt\n",
            "094.txt\n",
            "081.txt\n",
            "101.txt\n",
            "102.txt\n",
            "082.txt\n",
            "096.txt\n",
            "079.txt\n",
            "093.txt\n",
            "075.txt\n",
            "098.txt\n",
            "108.txt\n",
            "104.txt\n",
            "099.txt\n",
            "110.txt\n",
            "090.txt\n",
            "077.txt\n",
            "095.txt\n",
            "106.txt\n",
            "086.txt\n",
            "080.txt\n",
            "097.txt\n",
            "109.txt\n",
            "085.txt\n",
            "087.txt\n",
            "103.txt\n",
            "084.txt\n",
            "100.txt\n",
            "076.txt\n",
            "088.txt\n",
            "078.txt\n",
            "107.txt\n",
            "105.txt\n",
            "091.txt\n",
            "092.txt\n",
            "083.txt\n",
            "112.txt\n",
            "145.txt\n",
            "117.txt\n",
            "118.txt\n",
            "134.txt\n",
            "116.txt\n",
            "125.txt\n",
            "115.txt\n",
            "129.txt\n",
            "119.txt\n",
            "142.txt\n",
            "130.txt\n",
            "136.txt\n",
            "141.txt\n",
            "122.txt\n",
            "127.txt\n",
            "135.txt\n",
            "144.txt\n",
            "123.txt\n",
            "139.txt\n",
            "128.txt\n",
            "133.txt\n",
            "126.txt\n",
            "113.txt\n",
            "111.txt\n",
            "131.txt\n",
            "132.txt\n",
            "120.txt\n",
            "137.txt\n",
            "140.txt\n",
            "114.txt\n",
            "124.txt\n",
            "121.txt\n",
            "143.txt\n",
            "138.txt\n",
            "158.txt\n",
            "178.txt\n",
            "175.txt\n",
            "152.txt\n",
            "150.txt\n",
            "160.txt\n",
            "176.txt\n",
            "153.txt\n",
            "157.txt\n",
            "173.txt\n",
            "154.txt\n",
            "180.txt\n",
            "148.txt\n",
            "146.txt\n",
            "171.txt\n",
            "167.txt\n",
            "155.txt\n",
            "162.txt\n",
            "163.txt\n",
            "147.txt\n",
            "159.txt\n",
            "166.txt\n",
            "156.txt\n",
            "151.txt\n",
            "179.txt\n",
            "161.txt\n",
            "169.txt\n",
            "170.txt\n",
            "168.txt\n",
            "174.txt\n",
            "164.txt\n",
            "172.txt\n",
            "177.txt\n",
            "149.txt\n",
            "165.txt\n",
            "207.txt\n",
            "201.txt\n",
            "213.txt\n",
            "202.txt\n",
            "199.txt\n",
            "206.txt\n",
            "189.txt\n",
            "185.txt\n",
            "187.txt\n",
            "194.txt\n",
            "210.txt\n",
            "208.txt\n",
            "204.txt\n",
            "214.txt\n",
            "191.txt\n",
            "203.txt\n",
            "195.txt\n",
            "193.txt\n",
            "212.txt\n",
            "181.txt\n",
            "215.txt\n",
            "186.txt\n",
            "196.txt\n",
            "184.txt\n",
            "198.txt\n",
            "197.txt\n",
            "192.txt\n",
            "190.txt\n",
            "188.txt\n",
            "205.txt\n",
            "209.txt\n",
            "182.txt\n",
            "200.txt\n",
            "211.txt\n",
            "183.txt\n",
            "249.txt\n",
            "237.txt\n",
            "231.txt\n",
            "222.txt\n",
            "241.txt\n",
            "248.txt\n",
            "236.txt\n",
            "218.txt\n",
            "238.txt\n",
            "224.txt\n",
            "244.txt\n",
            "240.txt\n",
            "227.txt\n",
            "226.txt\n",
            "246.txt\n",
            "242.txt\n",
            "228.txt\n",
            "217.txt\n",
            "235.txt\n",
            "220.txt\n",
            "225.txt\n",
            "232.txt\n",
            "243.txt\n",
            "250.txt\n",
            "233.txt\n",
            "221.txt\n",
            "229.txt\n",
            "239.txt\n",
            "216.txt\n",
            "223.txt\n",
            "219.txt\n",
            "247.txt\n",
            "234.txt\n",
            "245.txt\n",
            "230.txt\n",
            "251.txt\n",
            "277.txt\n",
            "259.txt\n",
            "275.txt\n",
            "252.txt\n",
            "257.txt\n",
            "280.txt\n",
            "274.txt\n",
            "273.txt\n",
            "285.txt\n",
            "282.txt\n",
            "283.txt\n",
            "272.txt\n",
            "263.txt\n",
            "267.txt\n",
            "268.txt\n",
            "262.txt\n",
            "258.txt\n",
            "276.txt\n",
            "260.txt\n",
            "255.txt\n",
            "253.txt\n",
            "269.txt\n",
            "265.txt\n",
            "271.txt\n",
            "266.txt\n",
            "281.txt\n",
            "264.txt\n",
            "278.txt\n",
            "284.txt\n",
            "254.txt\n",
            "256.txt\n",
            "261.txt\n",
            "270.txt\n",
            "279.txt\n",
            "308.txt\n",
            "316.txt\n",
            "315.txt\n",
            "319.txt\n",
            "288.txt\n",
            "305.txt\n",
            "306.txt\n",
            "313.txt\n",
            "318.txt\n",
            "299.txt\n",
            "309.txt\n",
            "297.txt\n",
            "303.txt\n",
            "295.txt\n",
            "310.txt\n",
            "292.txt\n",
            "296.txt\n",
            "289.txt\n",
            "317.txt\n",
            "311.txt\n",
            "290.txt\n",
            "304.txt\n",
            "294.txt\n",
            "314.txt\n",
            "291.txt\n",
            "300.txt\n",
            "302.txt\n",
            "286.txt\n",
            "301.txt\n",
            "307.txt\n",
            "293.txt\n",
            "298.txt\n",
            "312.txt\n",
            "287.txt\n",
            "354.txt\n",
            "341.txt\n",
            "322.txt\n",
            "332.txt\n",
            "349.txt\n",
            "330.txt\n",
            "321.txt\n",
            "338.txt\n",
            "333.txt\n",
            "355.txt\n",
            "348.txt\n",
            "324.txt\n",
            "334.txt\n",
            "351.txt\n",
            "347.txt\n",
            "343.txt\n",
            "346.txt\n",
            "335.txt\n",
            "352.txt\n",
            "340.txt\n",
            "329.txt\n",
            "320.txt\n",
            "328.txt\n",
            "350.txt\n",
            "342.txt\n",
            "325.txt\n",
            "345.txt\n",
            "323.txt\n",
            "356.txt\n",
            "326.txt\n",
            "353.txt\n",
            "336.txt\n",
            "344.txt\n",
            "337.txt\n",
            "339.txt\n",
            "327.txt\n",
            "331.txt\n",
            "372.txt\n",
            "381.txt\n",
            "362.txt\n",
            "371.txt\n",
            "363.txt\n",
            "367.txt\n",
            "358.txt\n",
            "383.txt\n",
            "382.txt\n",
            "385.txt\n",
            "374.txt\n",
            "357.txt\n",
            "359.txt\n",
            "365.txt\n",
            "386.txt\n",
            "364.txt\n",
            "376.txt\n",
            "377.txt\n",
            "366.txt\n",
            "379.txt\n",
            "369.txt\n",
            "378.txt\n",
            "384.txt\n",
            "373.txt\n",
            "370.txt\n",
            "380.txt\n",
            "375.txt\n",
            "360.txt\n",
            "368.txt\n",
            "361.txt\n",
            "001.txt\n",
            "003.txt\n",
            "004.txt\n",
            "002.txt\n",
            "005.txt\n",
            "026.txt\n",
            "020.txt\n",
            "027.txt\n",
            "021.txt\n",
            "012.txt\n",
            "019.txt\n",
            "009.txt\n",
            "041.txt\n",
            "034.txt\n",
            "040.txt\n",
            "014.txt\n",
            "007.txt\n",
            "010.txt\n",
            "013.txt\n",
            "038.txt\n",
            "008.txt\n",
            "028.txt\n",
            "011.txt\n",
            "036.txt\n",
            "018.txt\n",
            "023.txt\n",
            "025.txt\n",
            "022.txt\n",
            "024.txt\n",
            "006.txt\n",
            "030.txt\n",
            "017.txt\n",
            "032.txt\n",
            "031.txt\n",
            "016.txt\n",
            "035.txt\n",
            "033.txt\n",
            "015.txt\n",
            "029.txt\n",
            "039.txt\n",
            "037.txt\n",
            "044.txt\n",
            "076.txt\n",
            "048.txt\n",
            "046.txt\n",
            "061.txt\n",
            "064.txt\n",
            "053.txt\n",
            "056.txt\n",
            "045.txt\n",
            "049.txt\n",
            "065.txt\n",
            "070.txt\n",
            "058.txt\n",
            "059.txt\n",
            "051.txt\n",
            "075.txt\n",
            "071.txt\n",
            "063.txt\n",
            "043.txt\n",
            "060.txt\n",
            "069.txt\n",
            "067.txt\n",
            "068.txt\n",
            "066.txt\n",
            "073.txt\n",
            "047.txt\n",
            "042.txt\n",
            "072.txt\n",
            "057.txt\n",
            "055.txt\n",
            "062.txt\n",
            "050.txt\n",
            "054.txt\n",
            "052.txt\n",
            "074.txt\n",
            "108.txt\n",
            "083.txt\n",
            "084.txt\n",
            "087.txt\n",
            "104.txt\n",
            "111.txt\n",
            "077.txt\n",
            "106.txt\n",
            "089.txt\n",
            "100.txt\n",
            "096.txt\n",
            "082.txt\n",
            "079.txt\n",
            "098.txt\n",
            "088.txt\n",
            "090.txt\n",
            "109.txt\n",
            "080.txt\n",
            "110.txt\n",
            "097.txt\n",
            "095.txt\n",
            "085.txt\n",
            "107.txt\n",
            "094.txt\n",
            "092.txt\n",
            "099.txt\n",
            "105.txt\n",
            "081.txt\n",
            "086.txt\n",
            "101.txt\n",
            "093.txt\n",
            "091.txt\n",
            "078.txt\n",
            "102.txt\n",
            "103.txt\n",
            "124.txt\n",
            "112.txt\n",
            "128.txt\n",
            "113.txt\n",
            "142.txt\n",
            "145.txt\n",
            "140.txt\n",
            "119.txt\n",
            "129.txt\n",
            "126.txt\n",
            "122.txt\n",
            "146.txt\n",
            "121.txt\n",
            "134.txt\n",
            "127.txt\n",
            "136.txt\n",
            "118.txt\n",
            "125.txt\n",
            "117.txt\n",
            "138.txt\n",
            "130.txt\n",
            "141.txt\n",
            "115.txt\n",
            "144.txt\n",
            "135.txt\n",
            "137.txt\n",
            "132.txt\n",
            "139.txt\n",
            "114.txt\n",
            "120.txt\n",
            "143.txt\n",
            "116.txt\n",
            "133.txt\n",
            "123.txt\n",
            "131.txt\n",
            "168.txt\n",
            "169.txt\n",
            "155.txt\n",
            "149.txt\n",
            "177.txt\n",
            "175.txt\n",
            "154.txt\n",
            "178.txt\n",
            "156.txt\n",
            "179.txt\n",
            "164.txt\n",
            "162.txt\n",
            "167.txt\n",
            "160.txt\n",
            "153.txt\n",
            "158.txt\n",
            "172.txt\n",
            "151.txt\n",
            "180.txt\n",
            "157.txt\n",
            "161.txt\n",
            "170.txt\n",
            "147.txt\n",
            "174.txt\n",
            "171.txt\n",
            "148.txt\n",
            "163.txt\n",
            "152.txt\n",
            "176.txt\n",
            "150.txt\n",
            "165.txt\n",
            "159.txt\n",
            "166.txt\n",
            "173.txt\n",
            "183.txt\n",
            "206.txt\n",
            "203.txt\n",
            "185.txt\n",
            "215.txt\n",
            "195.txt\n",
            "199.txt\n",
            "192.txt\n",
            "198.txt\n",
            "209.txt\n",
            "207.txt\n",
            "184.txt\n",
            "211.txt\n",
            "208.txt\n",
            "205.txt\n",
            "191.txt\n",
            "204.txt\n",
            "187.txt\n",
            "193.txt\n",
            "190.txt\n",
            "216.txt\n",
            "196.txt\n",
            "194.txt\n",
            "189.txt\n",
            "181.txt\n",
            "200.txt\n",
            "182.txt\n",
            "214.txt\n",
            "210.txt\n",
            "212.txt\n",
            "188.txt\n",
            "186.txt\n",
            "197.txt\n",
            "213.txt\n",
            "202.txt\n",
            "201.txt\n",
            "243.txt\n",
            "246.txt\n",
            "238.txt\n",
            "247.txt\n",
            "217.txt\n",
            "229.txt\n",
            "223.txt\n",
            "251.txt\n",
            "241.txt\n",
            "236.txt\n",
            "227.txt\n",
            "222.txt\n",
            "231.txt\n",
            "239.txt\n",
            "232.txt\n",
            "228.txt\n",
            "245.txt\n",
            "234.txt\n",
            "237.txt\n",
            "218.txt\n",
            "220.txt\n",
            "219.txt\n",
            "235.txt\n",
            "224.txt\n",
            "242.txt\n",
            "244.txt\n",
            "250.txt\n",
            "221.txt\n",
            "240.txt\n",
            "226.txt\n",
            "230.txt\n",
            "249.txt\n",
            "225.txt\n",
            "233.txt\n",
            "248.txt\n",
            "279.txt\n",
            "260.txt\n",
            "275.txt\n",
            "259.txt\n",
            "268.txt\n",
            "271.txt\n",
            "277.txt\n",
            "284.txt\n",
            "276.txt\n",
            "272.txt\n",
            "274.txt\n",
            "286.txt\n",
            "270.txt\n",
            "261.txt\n",
            "253.txt\n",
            "273.txt\n",
            "256.txt\n",
            "264.txt\n",
            "258.txt\n",
            "285.txt\n",
            "282.txt\n",
            "280.txt\n",
            "262.txt\n",
            "255.txt\n",
            "252.txt\n",
            "278.txt\n",
            "267.txt\n",
            "283.txt\n",
            "281.txt\n",
            "266.txt\n",
            "263.txt\n",
            "265.txt\n",
            "254.txt\n",
            "269.txt\n",
            "257.txt\n",
            "310.txt\n",
            "291.txt\n",
            "300.txt\n",
            "297.txt\n",
            "321.txt\n",
            "315.txt\n",
            "314.txt\n",
            "294.txt\n",
            "308.txt\n",
            "313.txt\n",
            "289.txt\n",
            "290.txt\n",
            "305.txt\n",
            "304.txt\n",
            "299.txt\n",
            "320.txt\n",
            "298.txt\n",
            "316.txt\n",
            "288.txt\n",
            "311.txt\n",
            "318.txt\n",
            "287.txt\n",
            "312.txt\n",
            "307.txt\n",
            "293.txt\n",
            "319.txt\n",
            "301.txt\n",
            "306.txt\n",
            "302.txt\n",
            "303.txt\n",
            "309.txt\n",
            "295.txt\n",
            "292.txt\n",
            "317.txt\n",
            "296.txt\n",
            "334.txt\n",
            "356.txt\n",
            "326.txt\n",
            "351.txt\n",
            "324.txt\n",
            "327.txt\n",
            "332.txt\n",
            "333.txt\n",
            "346.txt\n",
            "338.txt\n",
            "355.txt\n",
            "337.txt\n",
            "344.txt\n",
            "343.txt\n",
            "354.txt\n",
            "348.txt\n",
            "323.txt\n",
            "335.txt\n",
            "331.txt\n",
            "345.txt\n",
            "347.txt\n",
            "353.txt\n",
            "322.txt\n",
            "325.txt\n",
            "350.txt\n",
            "342.txt\n",
            "329.txt\n",
            "352.txt\n",
            "330.txt\n",
            "341.txt\n",
            "339.txt\n",
            "328.txt\n",
            "349.txt\n",
            "336.txt\n",
            "340.txt\n",
            "358.txt\n",
            "374.txt\n",
            "389.txt\n",
            "366.txt\n",
            "360.txt\n",
            "387.txt\n",
            "363.txt\n",
            "367.txt\n",
            "373.txt\n",
            "376.txt\n",
            "392.txt\n",
            "365.txt\n",
            "378.txt\n",
            "370.txt\n",
            "385.txt\n",
            "383.txt\n",
            "380.txt\n",
            "382.txt\n",
            "359.txt\n",
            "386.txt\n",
            "388.txt\n",
            "390.txt\n",
            "381.txt\n",
            "379.txt\n",
            "368.txt\n",
            "391.txt\n",
            "357.txt\n",
            "369.txt\n",
            "364.txt\n",
            "375.txt\n",
            "372.txt\n",
            "361.txt\n",
            "371.txt\n",
            "362.txt\n",
            "377.txt\n",
            "384.txt\n",
            "401.txt\n",
            "413.txt\n",
            "398.txt\n",
            "421.txt\n",
            "409.txt\n",
            "415.txt\n",
            "397.txt\n",
            "404.txt\n",
            "412.txt\n",
            "408.txt\n",
            "424.txt\n",
            "416.txt\n",
            "417.txt\n",
            "399.txt\n",
            "410.txt\n",
            "395.txt\n",
            "402.txt\n",
            "394.txt\n",
            "400.txt\n",
            "425.txt\n",
            "411.txt\n",
            "407.txt\n",
            "396.txt\n",
            "405.txt\n",
            "418.txt\n",
            "406.txt\n",
            "414.txt\n",
            "420.txt\n",
            "422.txt\n",
            "403.txt\n",
            "393.txt\n",
            "426.txt\n",
            "423.txt\n",
            "419.txt\n",
            "445.txt\n",
            "442.txt\n",
            "432.txt\n",
            "447.txt\n",
            "435.txt\n",
            "429.txt\n",
            "461.txt\n",
            "428.txt\n",
            "458.txt\n",
            "434.txt\n",
            "443.txt\n",
            "430.txt\n",
            "448.txt\n",
            "441.txt\n",
            "457.txt\n",
            "446.txt\n",
            "436.txt\n",
            "439.txt\n",
            "455.txt\n",
            "456.txt\n",
            "454.txt\n",
            "459.txt\n",
            "450.txt\n",
            "453.txt\n",
            "451.txt\n",
            "460.txt\n",
            "449.txt\n",
            "440.txt\n",
            "444.txt\n",
            "462.txt\n",
            "437.txt\n",
            "452.txt\n",
            "438.txt\n",
            "433.txt\n",
            "431.txt\n",
            "427.txt\n",
            "471.txt\n",
            "491.txt\n",
            "492.txt\n",
            "485.txt\n",
            "495.txt\n",
            "476.txt\n",
            "479.txt\n",
            "470.txt\n",
            "463.txt\n",
            "488.txt\n",
            "497.txt\n",
            "474.txt\n",
            "480.txt\n",
            "481.txt\n",
            "486.txt\n",
            "482.txt\n",
            "493.txt\n",
            "475.txt\n",
            "469.txt\n",
            "489.txt\n",
            "472.txt\n",
            "496.txt\n",
            "484.txt\n",
            "483.txt\n",
            "473.txt\n",
            "464.txt\n",
            "467.txt\n",
            "466.txt\n",
            "478.txt\n",
            "477.txt\n",
            "468.txt\n",
            "487.txt\n",
            "490.txt\n",
            "494.txt\n",
            "465.txt\n",
            "498.txt\n",
            "509.txt\n",
            "507.txt\n",
            "502.txt\n",
            "499.txt\n",
            "506.txt\n",
            "500.txt\n",
            "501.txt\n",
            "503.txt\n",
            "510.txt\n",
            "511.txt\n",
            "504.txt\n",
            "508.txt\n",
            "505.txt\n",
            "004.txt\n",
            "001.txt\n",
            "005.txt\n",
            "003.txt\n",
            "002.txt\n",
            "006.txt\n",
            "010.txt\n",
            "021.txt\n",
            "039.txt\n",
            "012.txt\n",
            "031.txt\n",
            "019.txt\n",
            "034.txt\n",
            "028.txt\n",
            "011.txt\n",
            "035.txt\n",
            "015.txt\n",
            "007.txt\n",
            "037.txt\n",
            "017.txt\n",
            "029.txt\n",
            "038.txt\n",
            "024.txt\n",
            "008.txt\n",
            "036.txt\n",
            "040.txt\n",
            "041.txt\n",
            "032.txt\n",
            "018.txt\n",
            "013.txt\n",
            "009.txt\n",
            "026.txt\n",
            "030.txt\n",
            "025.txt\n",
            "033.txt\n",
            "022.txt\n",
            "014.txt\n",
            "023.txt\n",
            "020.txt\n",
            "027.txt\n",
            "016.txt\n",
            "054.txt\n",
            "042.txt\n",
            "075.txt\n",
            "056.txt\n",
            "062.txt\n",
            "053.txt\n",
            "043.txt\n",
            "065.txt\n",
            "045.txt\n",
            "058.txt\n",
            "047.txt\n",
            "055.txt\n",
            "064.txt\n",
            "052.txt\n",
            "068.txt\n",
            "074.txt\n",
            "072.txt\n",
            "071.txt\n",
            "066.txt\n",
            "044.txt\n",
            "069.txt\n",
            "048.txt\n",
            "049.txt\n",
            "059.txt\n",
            "057.txt\n",
            "063.txt\n",
            "076.txt\n",
            "060.txt\n",
            "067.txt\n",
            "061.txt\n",
            "070.txt\n",
            "073.txt\n",
            "050.txt\n",
            "046.txt\n",
            "051.txt\n",
            "099.txt\n",
            "079.txt\n",
            "091.txt\n",
            "109.txt\n",
            "107.txt\n",
            "111.txt\n",
            "082.txt\n",
            "104.txt\n",
            "105.txt\n",
            "102.txt\n",
            "096.txt\n",
            "101.txt\n",
            "093.txt\n",
            "090.txt\n",
            "110.txt\n",
            "108.txt\n",
            "077.txt\n",
            "078.txt\n",
            "094.txt\n",
            "092.txt\n",
            "084.txt\n",
            "089.txt\n",
            "083.txt\n",
            "086.txt\n",
            "103.txt\n",
            "088.txt\n",
            "095.txt\n",
            "081.txt\n",
            "097.txt\n",
            "080.txt\n",
            "100.txt\n",
            "085.txt\n",
            "087.txt\n",
            "098.txt\n",
            "106.txt\n",
            "127.txt\n",
            "119.txt\n",
            "133.txt\n",
            "130.txt\n",
            "115.txt\n",
            "138.txt\n",
            "135.txt\n",
            "136.txt\n",
            "117.txt\n",
            "139.txt\n",
            "129.txt\n",
            "122.txt\n",
            "137.txt\n",
            "143.txt\n",
            "141.txt\n",
            "145.txt\n",
            "134.txt\n",
            "126.txt\n",
            "144.txt\n",
            "140.txt\n",
            "132.txt\n",
            "120.txt\n",
            "114.txt\n",
            "131.txt\n",
            "128.txt\n",
            "112.txt\n",
            "113.txt\n",
            "116.txt\n",
            "124.txt\n",
            "125.txt\n",
            "142.txt\n",
            "123.txt\n",
            "118.txt\n",
            "121.txt\n",
            "148.txt\n",
            "153.txt\n",
            "175.txt\n",
            "152.txt\n",
            "177.txt\n",
            "178.txt\n",
            "164.txt\n",
            "147.txt\n",
            "168.txt\n",
            "156.txt\n",
            "159.txt\n",
            "160.txt\n",
            "171.txt\n",
            "151.txt\n",
            "163.txt\n",
            "170.txt\n",
            "169.txt\n",
            "149.txt\n",
            "158.txt\n",
            "146.txt\n",
            "174.txt\n",
            "173.txt\n",
            "150.txt\n",
            "154.txt\n",
            "161.txt\n",
            "162.txt\n",
            "166.txt\n",
            "155.txt\n",
            "179.txt\n",
            "165.txt\n",
            "167.txt\n",
            "176.txt\n",
            "180.txt\n",
            "157.txt\n",
            "172.txt\n",
            "199.txt\n",
            "188.txt\n",
            "210.txt\n",
            "198.txt\n",
            "189.txt\n",
            "192.txt\n",
            "211.txt\n",
            "207.txt\n",
            "208.txt\n",
            "182.txt\n",
            "193.txt\n",
            "186.txt\n",
            "212.txt\n",
            "200.txt\n",
            "203.txt\n",
            "190.txt\n",
            "194.txt\n",
            "183.txt\n",
            "214.txt\n",
            "206.txt\n",
            "213.txt\n",
            "195.txt\n",
            "191.txt\n",
            "215.txt\n",
            "204.txt\n",
            "196.txt\n",
            "197.txt\n",
            "209.txt\n",
            "216.txt\n",
            "187.txt\n",
            "184.txt\n",
            "205.txt\n",
            "202.txt\n",
            "185.txt\n",
            "181.txt\n",
            "201.txt\n",
            "243.txt\n",
            "237.txt\n",
            "223.txt\n",
            "248.txt\n",
            "235.txt\n",
            "218.txt\n",
            "242.txt\n",
            "219.txt\n",
            "226.txt\n",
            "244.txt\n",
            "225.txt\n",
            "251.txt\n",
            "229.txt\n",
            "241.txt\n",
            "234.txt\n",
            "238.txt\n",
            "239.txt\n",
            "246.txt\n",
            "245.txt\n",
            "232.txt\n",
            "231.txt\n",
            "224.txt\n",
            "230.txt\n",
            "240.txt\n",
            "221.txt\n",
            "228.txt\n",
            "217.txt\n",
            "249.txt\n",
            "222.txt\n",
            "250.txt\n",
            "220.txt\n",
            "236.txt\n",
            "227.txt\n",
            "233.txt\n",
            "247.txt\n",
            "259.txt\n",
            "261.txt\n",
            "273.txt\n",
            "264.txt\n",
            "253.txt\n",
            "285.txt\n",
            "282.txt\n",
            "277.txt\n",
            "262.txt\n",
            "270.txt\n",
            "266.txt\n",
            "275.txt\n",
            "267.txt\n",
            "276.txt\n",
            "256.txt\n",
            "255.txt\n",
            "286.txt\n",
            "278.txt\n",
            "265.txt\n",
            "283.txt\n",
            "281.txt\n",
            "272.txt\n",
            "269.txt\n",
            "257.txt\n",
            "263.txt\n",
            "279.txt\n",
            "254.txt\n",
            "258.txt\n",
            "268.txt\n",
            "252.txt\n",
            "260.txt\n",
            "280.txt\n",
            "284.txt\n",
            "271.txt\n",
            "274.txt\n",
            "307.txt\n",
            "289.txt\n",
            "304.txt\n",
            "310.txt\n",
            "300.txt\n",
            "301.txt\n",
            "320.txt\n",
            "319.txt\n",
            "311.txt\n",
            "318.txt\n",
            "309.txt\n",
            "303.txt\n",
            "316.txt\n",
            "317.txt\n",
            "305.txt\n",
            "306.txt\n",
            "293.txt\n",
            "290.txt\n",
            "291.txt\n",
            "302.txt\n",
            "315.txt\n",
            "298.txt\n",
            "312.txt\n",
            "287.txt\n",
            "314.txt\n",
            "295.txt\n",
            "288.txt\n",
            "294.txt\n",
            "313.txt\n",
            "299.txt\n",
            "296.txt\n",
            "292.txt\n",
            "297.txt\n",
            "308.txt\n",
            "326.txt\n",
            "349.txt\n",
            "322.txt\n",
            "346.txt\n",
            "340.txt\n",
            "321.txt\n",
            "337.txt\n",
            "341.txt\n",
            "339.txt\n",
            "338.txt\n",
            "330.txt\n",
            "333.txt\n",
            "351.txt\n",
            "335.txt\n",
            "327.txt\n",
            "334.txt\n",
            "347.txt\n",
            "343.txt\n",
            "323.txt\n",
            "336.txt\n",
            "352.txt\n",
            "324.txt\n",
            "344.txt\n",
            "329.txt\n",
            "350.txt\n",
            "331.txt\n",
            "332.txt\n",
            "325.txt\n",
            "328.txt\n",
            "348.txt\n",
            "353.txt\n",
            "342.txt\n",
            "345.txt\n",
            "386.txt\n",
            "380.txt\n",
            "382.txt\n",
            "356.txt\n",
            "366.txt\n",
            "377.txt\n",
            "354.txt\n",
            "375.txt\n",
            "381.txt\n",
            "376.txt\n",
            "373.txt\n",
            "385.txt\n",
            "379.txt\n",
            "358.txt\n",
            "370.txt\n",
            "378.txt\n",
            "357.txt\n",
            "371.txt\n",
            "372.txt\n",
            "368.txt\n",
            "364.txt\n",
            "387.txt\n",
            "361.txt\n",
            "360.txt\n",
            "363.txt\n",
            "362.txt\n",
            "384.txt\n",
            "374.txt\n",
            "388.txt\n",
            "367.txt\n",
            "355.txt\n",
            "365.txt\n",
            "359.txt\n",
            "369.txt\n",
            "383.txt\n",
            "414.txt\n",
            "407.txt\n",
            "396.txt\n",
            "413.txt\n",
            "401.txt\n",
            "410.txt\n",
            "394.txt\n",
            "402.txt\n",
            "389.txt\n",
            "397.txt\n",
            "399.txt\n",
            "412.txt\n",
            "409.txt\n",
            "404.txt\n",
            "392.txt\n",
            "411.txt\n",
            "417.txt\n",
            "408.txt\n",
            "400.txt\n",
            "393.txt\n",
            "415.txt\n",
            "403.txt\n",
            "391.txt\n",
            "395.txt\n",
            "398.txt\n",
            "390.txt\n",
            "416.txt\n",
            "405.txt\n",
            "406.txt\n",
            "009.txt\n",
            "004.txt\n",
            "006.txt\n",
            "001.txt\n",
            "011.txt\n",
            "007.txt\n",
            "016.txt\n",
            "015.txt\n",
            "013.txt\n",
            "018.txt\n",
            "014.txt\n",
            "010.txt\n",
            "017.txt\n",
            "021.txt\n",
            "012.txt\n",
            "019.txt\n",
            "005.txt\n",
            "008.txt\n",
            "002.txt\n",
            "020.txt\n",
            "003.txt\n",
            "032.txt\n",
            "052.txt\n",
            "039.txt\n",
            "043.txt\n",
            "037.txt\n",
            "024.txt\n",
            "030.txt\n",
            "040.txt\n",
            "035.txt\n",
            "034.txt\n",
            "050.txt\n",
            "045.txt\n",
            "038.txt\n",
            "025.txt\n",
            "044.txt\n",
            "029.txt\n",
            "022.txt\n",
            "027.txt\n",
            "028.txt\n",
            "051.txt\n",
            "053.txt\n",
            "049.txt\n",
            "042.txt\n",
            "026.txt\n",
            "048.txt\n",
            "046.txt\n",
            "036.txt\n",
            "056.txt\n",
            "031.txt\n",
            "041.txt\n",
            "055.txt\n",
            "023.txt\n",
            "047.txt\n",
            "054.txt\n",
            "033.txt\n",
            "073.txt\n",
            "088.txt\n",
            "069.txt\n",
            "072.txt\n",
            "061.txt\n",
            "086.txt\n",
            "080.txt\n",
            "079.txt\n",
            "083.txt\n",
            "068.txt\n",
            "087.txt\n",
            "084.txt\n",
            "074.txt\n",
            "059.txt\n",
            "070.txt\n",
            "057.txt\n",
            "082.txt\n",
            "065.txt\n",
            "064.txt\n",
            "062.txt\n",
            "089.txt\n",
            "077.txt\n",
            "076.txt\n",
            "078.txt\n",
            "058.txt\n",
            "091.txt\n",
            "075.txt\n",
            "066.txt\n",
            "071.txt\n",
            "090.txt\n",
            "085.txt\n",
            "063.txt\n",
            "081.txt\n",
            "067.txt\n",
            "060.txt\n",
            "102.txt\n",
            "121.txt\n",
            "105.txt\n",
            "100.txt\n",
            "109.txt\n",
            "095.txt\n",
            "103.txt\n",
            "124.txt\n",
            "120.txt\n",
            "114.txt\n",
            "098.txt\n",
            "119.txt\n",
            "122.txt\n",
            "094.txt\n",
            "123.txt\n",
            "101.txt\n",
            "096.txt\n",
            "112.txt\n",
            "093.txt\n",
            "108.txt\n",
            "116.txt\n",
            "099.txt\n",
            "092.txt\n",
            "115.txt\n",
            "097.txt\n",
            "107.txt\n",
            "110.txt\n",
            "117.txt\n",
            "104.txt\n",
            "113.txt\n",
            "118.txt\n",
            "111.txt\n",
            "125.txt\n",
            "106.txt\n",
            "145.txt\n",
            "130.txt\n",
            "152.txt\n",
            "128.txt\n",
            "140.txt\n",
            "133.txt\n",
            "135.txt\n",
            "149.txt\n",
            "151.txt\n",
            "132.txt\n",
            "131.txt\n",
            "138.txt\n",
            "141.txt\n",
            "147.txt\n",
            "157.txt\n",
            "127.txt\n",
            "146.txt\n",
            "144.txt\n",
            "134.txt\n",
            "158.txt\n",
            "137.txt\n",
            "142.txt\n",
            "136.txt\n",
            "126.txt\n",
            "139.txt\n",
            "156.txt\n",
            "153.txt\n",
            "129.txt\n",
            "150.txt\n",
            "155.txt\n",
            "154.txt\n",
            "148.txt\n",
            "143.txt\n",
            "159.txt\n",
            "174.txt\n",
            "181.txt\n",
            "163.txt\n",
            "169.txt\n",
            "184.txt\n",
            "190.txt\n",
            "161.txt\n",
            "192.txt\n",
            "164.txt\n",
            "178.txt\n",
            "176.txt\n",
            "189.txt\n",
            "162.txt\n",
            "193.txt\n",
            "187.txt\n",
            "194.txt\n",
            "160.txt\n",
            "180.txt\n",
            "167.txt\n",
            "165.txt\n",
            "186.txt\n",
            "188.txt\n",
            "196.txt\n",
            "182.txt\n",
            "195.txt\n",
            "173.txt\n",
            "168.txt\n",
            "183.txt\n",
            "170.txt\n",
            "172.txt\n",
            "166.txt\n",
            "179.txt\n",
            "185.txt\n",
            "191.txt\n",
            "175.txt\n",
            "171.txt\n",
            "177.txt\n",
            "200.txt\n",
            "208.txt\n",
            "220.txt\n",
            "229.txt\n",
            "219.txt\n",
            "228.txt\n",
            "213.txt\n",
            "197.txt\n",
            "199.txt\n",
            "202.txt\n",
            "230.txt\n",
            "198.txt\n",
            "205.txt\n",
            "226.txt\n",
            "218.txt\n",
            "209.txt\n",
            "207.txt\n",
            "223.txt\n",
            "212.txt\n",
            "217.txt\n",
            "227.txt\n",
            "214.txt\n",
            "216.txt\n",
            "222.txt\n",
            "203.txt\n",
            "215.txt\n",
            "224.txt\n",
            "201.txt\n",
            "211.txt\n",
            "210.txt\n",
            "204.txt\n",
            "225.txt\n",
            "221.txt\n",
            "206.txt\n",
            "239.txt\n",
            "244.txt\n",
            "263.txt\n",
            "248.txt\n",
            "252.txt\n",
            "232.txt\n",
            "235.txt\n",
            "257.txt\n",
            "264.txt\n",
            "255.txt\n",
            "241.txt\n",
            "260.txt\n",
            "231.txt\n",
            "233.txt\n",
            "250.txt\n",
            "246.txt\n",
            "249.txt\n",
            "261.txt\n",
            "251.txt\n",
            "234.txt\n",
            "258.txt\n",
            "245.txt\n",
            "242.txt\n",
            "243.txt\n",
            "256.txt\n",
            "262.txt\n",
            "237.txt\n",
            "259.txt\n",
            "253.txt\n",
            "238.txt\n",
            "254.txt\n",
            "236.txt\n",
            "247.txt\n",
            "240.txt\n",
            "299.txt\n",
            "269.txt\n",
            "295.txt\n",
            "301.txt\n",
            "300.txt\n",
            "288.txt\n",
            "286.txt\n",
            "289.txt\n",
            "291.txt\n",
            "277.txt\n",
            "294.txt\n",
            "292.txt\n",
            "298.txt\n",
            "275.txt\n",
            "284.txt\n",
            "271.txt\n",
            "276.txt\n",
            "273.txt\n",
            "270.txt\n",
            "278.txt\n",
            "272.txt\n",
            "283.txt\n",
            "282.txt\n",
            "293.txt\n",
            "297.txt\n",
            "280.txt\n",
            "287.txt\n",
            "279.txt\n",
            "268.txt\n",
            "285.txt\n",
            "274.txt\n",
            "281.txt\n",
            "290.txt\n",
            "265.txt\n",
            "267.txt\n",
            "296.txt\n",
            "266.txt\n",
            "313.txt\n",
            "312.txt\n",
            "323.txt\n",
            "322.txt\n",
            "310.txt\n",
            "335.txt\n",
            "309.txt\n",
            "308.txt\n",
            "334.txt\n",
            "327.txt\n",
            "338.txt\n",
            "303.txt\n",
            "316.txt\n",
            "325.txt\n",
            "333.txt\n",
            "304.txt\n",
            "318.txt\n",
            "317.txt\n",
            "305.txt\n",
            "306.txt\n",
            "320.txt\n",
            "331.txt\n",
            "307.txt\n",
            "332.txt\n",
            "328.txt\n",
            "329.txt\n",
            "339.txt\n",
            "336.txt\n",
            "321.txt\n",
            "314.txt\n",
            "311.txt\n",
            "315.txt\n",
            "337.txt\n",
            "324.txt\n",
            "326.txt\n",
            "302.txt\n",
            "319.txt\n",
            "330.txt\n",
            "344.txt\n",
            "362.txt\n",
            "366.txt\n",
            "365.txt\n",
            "347.txt\n",
            "342.txt\n",
            "363.txt\n",
            "345.txt\n",
            "360.txt\n",
            "346.txt\n",
            "371.txt\n",
            "348.txt\n",
            "369.txt\n",
            "353.txt\n",
            "350.txt\n",
            "357.txt\n",
            "355.txt\n",
            "343.txt\n",
            "373.txt\n",
            "351.txt\n",
            "361.txt\n",
            "359.txt\n",
            "372.txt\n",
            "367.txt\n",
            "349.txt\n",
            "368.txt\n",
            "364.txt\n",
            "374.txt\n",
            "354.txt\n",
            "358.txt\n",
            "340.txt\n",
            "356.txt\n",
            "352.txt\n",
            "370.txt\n",
            "341.txt\n",
            "391.txt\n",
            "384.txt\n",
            "386.txt\n",
            "376.txt\n",
            "397.txt\n",
            "400.txt\n",
            "399.txt\n",
            "387.txt\n",
            "388.txt\n",
            "381.txt\n",
            "385.txt\n",
            "396.txt\n",
            "392.txt\n",
            "395.txt\n",
            "380.txt\n",
            "390.txt\n",
            "393.txt\n",
            "401.txt\n",
            "383.txt\n",
            "378.txt\n",
            "389.txt\n",
            "382.txt\n",
            "398.txt\n",
            "379.txt\n",
            "375.txt\n",
            "377.txt\n",
            "394.txt\n",
            "019.txt\n",
            "007.txt\n",
            "003.txt\n",
            "023.txt\n",
            "002.txt\n",
            "018.txt\n",
            "017.txt\n",
            "009.txt\n",
            "012.txt\n",
            "001.txt\n",
            "022.txt\n",
            "008.txt\n",
            "011.txt\n",
            "025.txt\n",
            "013.txt\n",
            "016.txt\n",
            "014.txt\n",
            "006.txt\n",
            "021.txt\n",
            "020.txt\n",
            "024.txt\n",
            "005.txt\n",
            "004.txt\n",
            "015.txt\n",
            "010.txt\n",
            "056.txt\n",
            "054.txt\n",
            "036.txt\n",
            "050.txt\n",
            "029.txt\n",
            "057.txt\n",
            "033.txt\n",
            "038.txt\n",
            "039.txt\n",
            "031.txt\n",
            "026.txt\n",
            "042.txt\n",
            "027.txt\n",
            "040.txt\n",
            "052.txt\n",
            "051.txt\n",
            "044.txt\n",
            "034.txt\n",
            "046.txt\n",
            "028.txt\n",
            "059.txt\n",
            "053.txt\n",
            "049.txt\n",
            "037.txt\n",
            "060.txt\n",
            "043.txt\n",
            "041.txt\n",
            "058.txt\n",
            "035.txt\n",
            "055.txt\n",
            "048.txt\n",
            "047.txt\n",
            "032.txt\n",
            "045.txt\n",
            "030.txt\n",
            "091.txt\n",
            "079.txt\n",
            "075.txt\n",
            "077.txt\n",
            "072.txt\n",
            "070.txt\n",
            "061.txt\n",
            "081.txt\n",
            "066.txt\n",
            "064.txt\n",
            "073.txt\n",
            "095.txt\n",
            "092.txt\n",
            "082.txt\n",
            "069.txt\n",
            "087.txt\n",
            "062.txt\n",
            "071.txt\n",
            "094.txt\n",
            "084.txt\n",
            "068.txt\n",
            "076.txt\n",
            "080.txt\n",
            "089.txt\n",
            "067.txt\n",
            "065.txt\n",
            "078.txt\n",
            "063.txt\n",
            "074.txt\n",
            "085.txt\n",
            "083.txt\n",
            "088.txt\n",
            "093.txt\n",
            "086.txt\n",
            "090.txt\n",
            "105.txt\n",
            "103.txt\n",
            "113.txt\n",
            "126.txt\n",
            "097.txt\n",
            "101.txt\n",
            "117.txt\n",
            "129.txt\n",
            "115.txt\n",
            "110.txt\n",
            "099.txt\n",
            "119.txt\n",
            "120.txt\n",
            "127.txt\n",
            "104.txt\n",
            "100.txt\n",
            "106.txt\n",
            "112.txt\n",
            "125.txt\n",
            "131.txt\n",
            "114.txt\n",
            "121.txt\n",
            "123.txt\n",
            "111.txt\n",
            "098.txt\n",
            "122.txt\n",
            "130.txt\n",
            "096.txt\n",
            "116.txt\n",
            "108.txt\n",
            "118.txt\n",
            "107.txt\n",
            "128.txt\n",
            "124.txt\n",
            "109.txt\n",
            "102.txt\n",
            "159.txt\n",
            "144.txt\n",
            "154.txt\n",
            "141.txt\n",
            "132.txt\n",
            "149.txt\n",
            "152.txt\n",
            "135.txt\n",
            "163.txt\n",
            "158.txt\n",
            "161.txt\n",
            "133.txt\n",
            "157.txt\n",
            "155.txt\n",
            "137.txt\n",
            "140.txt\n",
            "156.txt\n",
            "150.txt\n",
            "164.txt\n",
            "145.txt\n",
            "142.txt\n",
            "136.txt\n",
            "162.txt\n",
            "151.txt\n",
            "134.txt\n",
            "138.txt\n",
            "165.txt\n",
            "148.txt\n",
            "146.txt\n",
            "139.txt\n",
            "160.txt\n",
            "153.txt\n",
            "147.txt\n",
            "143.txt\n",
            "166.txt\n",
            "180.txt\n",
            "181.txt\n",
            "168.txt\n",
            "189.txt\n",
            "184.txt\n",
            "196.txt\n",
            "175.txt\n",
            "176.txt\n",
            "191.txt\n",
            "178.txt\n",
            "182.txt\n",
            "190.txt\n",
            "167.txt\n",
            "183.txt\n",
            "197.txt\n",
            "201.txt\n",
            "198.txt\n",
            "187.txt\n",
            "171.txt\n",
            "194.txt\n",
            "169.txt\n",
            "199.txt\n",
            "186.txt\n",
            "192.txt\n",
            "185.txt\n",
            "179.txt\n",
            "170.txt\n",
            "200.txt\n",
            "193.txt\n",
            "195.txt\n",
            "174.txt\n",
            "173.txt\n",
            "188.txt\n",
            "177.txt\n",
            "172.txt\n",
            "210.txt\n",
            "212.txt\n",
            "206.txt\n",
            "221.txt\n",
            "229.txt\n",
            "226.txt\n",
            "232.txt\n",
            "215.txt\n",
            "220.txt\n",
            "234.txt\n",
            "202.txt\n",
            "236.txt\n",
            "211.txt\n",
            "208.txt\n",
            "225.txt\n",
            "231.txt\n",
            "228.txt\n",
            "214.txt\n",
            "235.txt\n",
            "209.txt\n",
            "230.txt\n",
            "218.txt\n",
            "217.txt\n",
            "233.txt\n",
            "204.txt\n",
            "222.txt\n",
            "207.txt\n",
            "203.txt\n",
            "223.txt\n",
            "216.txt\n",
            "227.txt\n",
            "224.txt\n",
            "219.txt\n",
            "205.txt\n",
            "213.txt\n",
            "257.txt\n",
            "266.txt\n",
            "242.txt\n",
            "237.txt\n",
            "249.txt\n",
            "271.txt\n",
            "238.txt\n",
            "245.txt\n",
            "246.txt\n",
            "267.txt\n",
            "241.txt\n",
            "256.txt\n",
            "253.txt\n",
            "240.txt\n",
            "244.txt\n",
            "264.txt\n",
            "270.txt\n",
            "269.txt\n",
            "262.txt\n",
            "250.txt\n",
            "239.txt\n",
            "252.txt\n",
            "255.txt\n",
            "251.txt\n",
            "254.txt\n",
            "243.txt\n",
            "261.txt\n",
            "248.txt\n",
            "268.txt\n",
            "247.txt\n",
            "265.txt\n",
            "260.txt\n",
            "258.txt\n",
            "259.txt\n",
            "263.txt\n",
            "301.txt\n",
            "284.txt\n",
            "293.txt\n",
            "279.txt\n",
            "294.txt\n",
            "277.txt\n",
            "285.txt\n",
            "288.txt\n",
            "306.txt\n",
            "303.txt\n",
            "283.txt\n",
            "305.txt\n",
            "289.txt\n",
            "298.txt\n",
            "295.txt\n",
            "281.txt\n",
            "272.txt\n",
            "297.txt\n",
            "304.txt\n",
            "286.txt\n",
            "287.txt\n",
            "296.txt\n",
            "275.txt\n",
            "302.txt\n",
            "291.txt\n",
            "276.txt\n",
            "292.txt\n",
            "280.txt\n",
            "300.txt\n",
            "282.txt\n",
            "278.txt\n",
            "290.txt\n",
            "299.txt\n",
            "274.txt\n",
            "273.txt\n",
            "327.txt\n",
            "315.txt\n",
            "328.txt\n",
            "319.txt\n",
            "316.txt\n",
            "307.txt\n",
            "326.txt\n",
            "322.txt\n",
            "317.txt\n",
            "332.txt\n",
            "340.txt\n",
            "308.txt\n",
            "309.txt\n",
            "341.txt\n",
            "329.txt\n",
            "314.txt\n",
            "318.txt\n",
            "325.txt\n",
            "339.txt\n",
            "313.txt\n",
            "324.txt\n",
            "336.txt\n",
            "320.txt\n",
            "310.txt\n",
            "333.txt\n",
            "311.txt\n",
            "337.txt\n",
            "334.txt\n",
            "323.txt\n",
            "331.txt\n",
            "338.txt\n",
            "335.txt\n",
            "330.txt\n",
            "321.txt\n",
            "312.txt\n",
            "343.txt\n",
            "367.txt\n",
            "361.txt\n",
            "352.txt\n",
            "342.txt\n",
            "347.txt\n",
            "375.txt\n",
            "365.txt\n",
            "345.txt\n",
            "348.txt\n",
            "356.txt\n",
            "351.txt\n",
            "350.txt\n",
            "366.txt\n",
            "369.txt\n",
            "353.txt\n",
            "376.txt\n",
            "370.txt\n",
            "359.txt\n",
            "372.txt\n",
            "354.txt\n",
            "346.txt\n",
            "373.txt\n",
            "368.txt\n",
            "360.txt\n",
            "374.txt\n",
            "358.txt\n",
            "363.txt\n",
            "349.txt\n",
            "344.txt\n",
            "371.txt\n",
            "362.txt\n",
            "357.txt\n",
            "355.txt\n",
            "364.txt\n",
            "408.txt\n",
            "379.txt\n",
            "403.txt\n",
            "406.txt\n",
            "385.txt\n",
            "402.txt\n",
            "397.txt\n",
            "395.txt\n",
            "389.txt\n",
            "392.txt\n",
            "404.txt\n",
            "387.txt\n",
            "391.txt\n",
            "386.txt\n",
            "388.txt\n",
            "393.txt\n",
            "399.txt\n",
            "383.txt\n",
            "401.txt\n",
            "400.txt\n",
            "407.txt\n",
            "384.txt\n",
            "377.txt\n",
            "409.txt\n",
            "396.txt\n",
            "405.txt\n",
            "378.txt\n",
            "398.txt\n",
            "394.txt\n",
            "390.txt\n",
            "381.txt\n",
            "382.txt\n",
            "380.txt\n",
            "438.txt\n",
            "440.txt\n",
            "435.txt\n",
            "434.txt\n",
            "421.txt\n",
            "422.txt\n",
            "411.txt\n",
            "428.txt\n",
            "413.txt\n",
            "412.txt\n",
            "442.txt\n",
            "424.txt\n",
            "420.txt\n",
            "426.txt\n",
            "418.txt\n",
            "439.txt\n",
            "432.txt\n",
            "429.txt\n",
            "416.txt\n",
            "425.txt\n",
            "414.txt\n",
            "430.txt\n",
            "423.txt\n",
            "445.txt\n",
            "417.txt\n",
            "444.txt\n",
            "437.txt\n",
            "443.txt\n",
            "419.txt\n",
            "433.txt\n",
            "410.txt\n",
            "436.txt\n",
            "415.txt\n",
            "441.txt\n",
            "427.txt\n",
            "431.txt\n",
            "473.txt\n",
            "480.txt\n",
            "476.txt\n",
            "468.txt\n",
            "474.txt\n",
            "461.txt\n",
            "456.txt\n",
            "469.txt\n",
            "448.txt\n",
            "477.txt\n",
            "454.txt\n",
            "451.txt\n",
            "459.txt\n",
            "447.txt\n",
            "449.txt\n",
            "471.txt\n",
            "466.txt\n",
            "463.txt\n",
            "478.txt\n",
            "465.txt\n",
            "446.txt\n",
            "479.txt\n",
            "467.txt\n",
            "475.txt\n",
            "472.txt\n",
            "458.txt\n",
            "450.txt\n",
            "464.txt\n",
            "460.txt\n",
            "462.txt\n",
            "452.txt\n",
            "453.txt\n",
            "457.txt\n",
            "455.txt\n",
            "470.txt\n",
            "500.txt\n",
            "509.txt\n",
            "503.txt\n",
            "486.txt\n",
            "498.txt\n",
            "481.txt\n",
            "496.txt\n",
            "488.txt\n",
            "491.txt\n",
            "499.txt\n",
            "495.txt\n",
            "507.txt\n",
            "487.txt\n",
            "492.txt\n",
            "504.txt\n",
            "502.txt\n",
            "501.txt\n",
            "493.txt\n",
            "510.txt\n",
            "485.txt\n",
            "484.txt\n",
            "489.txt\n",
            "508.txt\n",
            "494.txt\n",
            "506.txt\n",
            "497.txt\n",
            "505.txt\n",
            "483.txt\n",
            "490.txt\n",
            "482.txt\n"
          ]
        }
      ]
    },
    {
      "cell_type": "code",
      "source": [
        "# In Spark NLP, wholeTextFile() will return an error when it finds a nested folder.\n",
        "# Therefore, we need to create a file path list by traversing all nested folders\n",
        "\n",
        "lst_filenames = [os.path.join(path, name) for path, subdirs, files\n",
        "                 in os.walk(root) for name in files]\n",
        "print(len(lst_filenames))\n",
        "lst_filenames[:5]"
      ],
      "metadata": {
        "colab": {
          "base_uri": "https://localhost:8080/"
        },
        "id": "GvQi3W-IW3eO",
        "outputId": "f9ab10a6-1ea0-4ebf-fbed-cf3c9a6e0520"
      },
      "execution_count": 22,
      "outputs": [
        {
          "output_type": "stream",
          "name": "stdout",
          "text": [
            "2225\n"
          ]
        },
        {
          "output_type": "execute_result",
          "data": {
            "text/plain": [
              "['/content/drive/My Drive/BBC News Summary/Summaries/entertainment/005.txt',\n",
              " '/content/drive/My Drive/BBC News Summary/Summaries/entertainment/001.txt',\n",
              " '/content/drive/My Drive/BBC News Summary/Summaries/entertainment/004.txt',\n",
              " '/content/drive/My Drive/BBC News Summary/Summaries/entertainment/002.txt',\n",
              " '/content/drive/My Drive/BBC News Summary/Summaries/entertainment/003.txt']"
            ]
          },
          "metadata": {},
          "execution_count": 22
        }
      ]
    },
    {
      "cell_type": "code",
      "source": [
        "# Start the Spark NLP session\n",
        "spark = sparknlp.start()"
      ],
      "metadata": {
        "id": "_DwDW3ijgUun"
      },
      "execution_count": 23,
      "outputs": []
    },
    {
      "cell_type": "code",
      "source": [
        "# Use Spark NLP to import all txt files in the list (filenames seperated by comma)\n",
        "texts = spark.sparkContext.wholeTextFiles(','.join(lst_filenames))"
      ],
      "metadata": {
        "id": "Q7sbUWjQQdan"
      },
      "execution_count": 24,
      "outputs": []
    },
    {
      "cell_type": "code",
      "source": [
        "# Create a schema for the imported files\n",
        "schema = StructType([\n",
        "  StructField('filename', StringType()),\n",
        "  StructField('text', StringType())\n",
        "])"
      ],
      "metadata": {
        "id": "xUwHqIO5RFh2"
      },
      "execution_count": 26,
      "outputs": []
    },
    {
      "cell_type": "code",
      "source": [
        "# Create a Spark NLP dataframe\n",
        "texts = spark.createDataFrame(texts, schema = schema)\n",
        "texts.show()"
      ],
      "metadata": {
        "colab": {
          "base_uri": "https://localhost:8080/"
        },
        "id": "Q6BbZZeWSW4V",
        "outputId": "48cd6b5d-1115-42f6-b51a-07c56d34dead"
      },
      "execution_count": 27,
      "outputs": [
        {
          "output_type": "stream",
          "name": "stdout",
          "text": [
            "+--------------------+--------------------+\n",
            "|            filename|                text|\n",
            "+--------------------+--------------------+\n",
            "|file:/content/dri...|Mary Poppins was ...|\n",
            "|file:/content/dri...|The messages will...|\n",
            "|file:/content/dri...|\"It was very hard...|\n",
            "|file:/content/dri...|Bloom is to be fo...|\n",
            "|file:/content/dri...|The classic film ...|\n",
            "|file:/content/dri...|His first film fo...|\n",
            "|file:/content/dri...|The Chicago Film ...|\n",
            "|file:/content/dri...|A novel set in 19...|\n",
            "|file:/content/dri...|Dame Muriel Spark...|\n",
            "|file:/content/dri...|The Ballymena-bor...|\n",
            "|file:/content/dri...|\"The fact that th...|\n",
            "|file:/content/dri...|She became direct...|\n",
            "|file:/content/dri...|Ms Bradburn said ...|\n",
            "|file:/content/dri...|Orange Prize winn...|\n",
            "|file:/content/dri...|Redford wanted Su...|\n",
            "|file:/content/dri...|The writer was kn...|\n",
            "|file:/content/dri...|The five writers ...|\n",
            "|file:/content/dri...|It was bought by ...|\n",
            "|file:/content/dri...|This third Harry ...|\n",
            "|file:/content/dri...|A film based on t...|\n",
            "+--------------------+--------------------+\n",
            "only showing top 20 rows\n",
            "\n"
          ]
        }
      ]
    },
    {
      "cell_type": "code",
      "source": [
        "# We can convert the Spark NLP dataframe to Pandas dataframe\n",
        "texts.limit(5).toPandas()"
      ],
      "metadata": {
        "colab": {
          "base_uri": "https://localhost:8080/",
          "height": 206
        },
        "id": "R3xyWf4USoUV",
        "outputId": "d9ab1656-aeac-4414-dd5f-0fce173e95fe"
      },
      "execution_count": 28,
      "outputs": [
        {
          "output_type": "execute_result",
          "data": {
            "text/plain": [
              "                                            filename  \\\n",
              "0  file:/content/drive/My Drive/BBC News Summary/...   \n",
              "1  file:/content/drive/My Drive/BBC News Summary/...   \n",
              "2  file:/content/drive/My Drive/BBC News Summary/...   \n",
              "3  file:/content/drive/My Drive/BBC News Summary/...   \n",
              "4  file:/content/drive/My Drive/BBC News Summary/...   \n",
              "\n",
              "                                                text  \n",
              "0  Mary Poppins was originally created by author ...  \n",
              "1  The messages will be \"unwrapped\" by sculptor R...  \n",
              "2  \"It was very hard to follow last year's extrem...  \n",
              "3  Bloom is to be formally presented with the Han...  \n",
              "4  The classic film It's A Wonderful Life is to b...  "
            ],
            "text/html": [
              "\n",
              "  <div id=\"df-017c8b8b-01aa-47fa-a62d-e0b1f97726b0\" class=\"colab-df-container\">\n",
              "    <div>\n",
              "<style scoped>\n",
              "    .dataframe tbody tr th:only-of-type {\n",
              "        vertical-align: middle;\n",
              "    }\n",
              "\n",
              "    .dataframe tbody tr th {\n",
              "        vertical-align: top;\n",
              "    }\n",
              "\n",
              "    .dataframe thead th {\n",
              "        text-align: right;\n",
              "    }\n",
              "</style>\n",
              "<table border=\"1\" class=\"dataframe\">\n",
              "  <thead>\n",
              "    <tr style=\"text-align: right;\">\n",
              "      <th></th>\n",
              "      <th>filename</th>\n",
              "      <th>text</th>\n",
              "    </tr>\n",
              "  </thead>\n",
              "  <tbody>\n",
              "    <tr>\n",
              "      <th>0</th>\n",
              "      <td>file:/content/drive/My Drive/BBC News Summary/...</td>\n",
              "      <td>Mary Poppins was originally created by author ...</td>\n",
              "    </tr>\n",
              "    <tr>\n",
              "      <th>1</th>\n",
              "      <td>file:/content/drive/My Drive/BBC News Summary/...</td>\n",
              "      <td>The messages will be \"unwrapped\" by sculptor R...</td>\n",
              "    </tr>\n",
              "    <tr>\n",
              "      <th>2</th>\n",
              "      <td>file:/content/drive/My Drive/BBC News Summary/...</td>\n",
              "      <td>\"It was very hard to follow last year's extrem...</td>\n",
              "    </tr>\n",
              "    <tr>\n",
              "      <th>3</th>\n",
              "      <td>file:/content/drive/My Drive/BBC News Summary/...</td>\n",
              "      <td>Bloom is to be formally presented with the Han...</td>\n",
              "    </tr>\n",
              "    <tr>\n",
              "      <th>4</th>\n",
              "      <td>file:/content/drive/My Drive/BBC News Summary/...</td>\n",
              "      <td>The classic film It's A Wonderful Life is to b...</td>\n",
              "    </tr>\n",
              "  </tbody>\n",
              "</table>\n",
              "</div>\n",
              "    <div class=\"colab-df-buttons\">\n",
              "\n",
              "  <div class=\"colab-df-container\">\n",
              "    <button class=\"colab-df-convert\" onclick=\"convertToInteractive('df-017c8b8b-01aa-47fa-a62d-e0b1f97726b0')\"\n",
              "            title=\"Convert this dataframe to an interactive table.\"\n",
              "            style=\"display:none;\">\n",
              "\n",
              "  <svg xmlns=\"http://www.w3.org/2000/svg\" height=\"24px\" viewBox=\"0 -960 960 960\">\n",
              "    <path d=\"M120-120v-720h720v720H120Zm60-500h600v-160H180v160Zm220 220h160v-160H400v160Zm0 220h160v-160H400v160ZM180-400h160v-160H180v160Zm440 0h160v-160H620v160ZM180-180h160v-160H180v160Zm440 0h160v-160H620v160Z\"/>\n",
              "  </svg>\n",
              "    </button>\n",
              "\n",
              "  <style>\n",
              "    .colab-df-container {\n",
              "      display:flex;\n",
              "      gap: 12px;\n",
              "    }\n",
              "\n",
              "    .colab-df-convert {\n",
              "      background-color: #E8F0FE;\n",
              "      border: none;\n",
              "      border-radius: 50%;\n",
              "      cursor: pointer;\n",
              "      display: none;\n",
              "      fill: #1967D2;\n",
              "      height: 32px;\n",
              "      padding: 0 0 0 0;\n",
              "      width: 32px;\n",
              "    }\n",
              "\n",
              "    .colab-df-convert:hover {\n",
              "      background-color: #E2EBFA;\n",
              "      box-shadow: 0px 1px 2px rgba(60, 64, 67, 0.3), 0px 1px 3px 1px rgba(60, 64, 67, 0.15);\n",
              "      fill: #174EA6;\n",
              "    }\n",
              "\n",
              "    .colab-df-buttons div {\n",
              "      margin-bottom: 4px;\n",
              "    }\n",
              "\n",
              "    [theme=dark] .colab-df-convert {\n",
              "      background-color: #3B4455;\n",
              "      fill: #D2E3FC;\n",
              "    }\n",
              "\n",
              "    [theme=dark] .colab-df-convert:hover {\n",
              "      background-color: #434B5C;\n",
              "      box-shadow: 0px 1px 3px 1px rgba(0, 0, 0, 0.15);\n",
              "      filter: drop-shadow(0px 1px 2px rgba(0, 0, 0, 0.3));\n",
              "      fill: #FFFFFF;\n",
              "    }\n",
              "  </style>\n",
              "\n",
              "    <script>\n",
              "      const buttonEl =\n",
              "        document.querySelector('#df-017c8b8b-01aa-47fa-a62d-e0b1f97726b0 button.colab-df-convert');\n",
              "      buttonEl.style.display =\n",
              "        google.colab.kernel.accessAllowed ? 'block' : 'none';\n",
              "\n",
              "      async function convertToInteractive(key) {\n",
              "        const element = document.querySelector('#df-017c8b8b-01aa-47fa-a62d-e0b1f97726b0');\n",
              "        const dataTable =\n",
              "          await google.colab.kernel.invokeFunction('convertToInteractive',\n",
              "                                                    [key], {});\n",
              "        if (!dataTable) return;\n",
              "\n",
              "        const docLinkHtml = 'Like what you see? Visit the ' +\n",
              "          '<a target=\"_blank\" href=https://colab.research.google.com/notebooks/data_table.ipynb>data table notebook</a>'\n",
              "          + ' to learn more about interactive tables.';\n",
              "        element.innerHTML = '';\n",
              "        dataTable['output_type'] = 'display_data';\n",
              "        await google.colab.output.renderOutput(dataTable, element);\n",
              "        const docLink = document.createElement('div');\n",
              "        docLink.innerHTML = docLinkHtml;\n",
              "        element.appendChild(docLink);\n",
              "      }\n",
              "    </script>\n",
              "  </div>\n",
              "\n",
              "\n",
              "<div id=\"df-b085d7bb-4807-43a5-bb66-e53990fb10cd\">\n",
              "  <button class=\"colab-df-quickchart\" onclick=\"quickchart('df-b085d7bb-4807-43a5-bb66-e53990fb10cd')\"\n",
              "            title=\"Suggest charts.\"\n",
              "            style=\"display:none;\">\n",
              "\n",
              "<svg xmlns=\"http://www.w3.org/2000/svg\" height=\"24px\"viewBox=\"0 0 24 24\"\n",
              "     width=\"24px\">\n",
              "    <g>\n",
              "        <path d=\"M19 3H5c-1.1 0-2 .9-2 2v14c0 1.1.9 2 2 2h14c1.1 0 2-.9 2-2V5c0-1.1-.9-2-2-2zM9 17H7v-7h2v7zm4 0h-2V7h2v10zm4 0h-2v-4h2v4z\"/>\n",
              "    </g>\n",
              "</svg>\n",
              "  </button>\n",
              "\n",
              "<style>\n",
              "  .colab-df-quickchart {\n",
              "      --bg-color: #E8F0FE;\n",
              "      --fill-color: #1967D2;\n",
              "      --hover-bg-color: #E2EBFA;\n",
              "      --hover-fill-color: #174EA6;\n",
              "      --disabled-fill-color: #AAA;\n",
              "      --disabled-bg-color: #DDD;\n",
              "  }\n",
              "\n",
              "  [theme=dark] .colab-df-quickchart {\n",
              "      --bg-color: #3B4455;\n",
              "      --fill-color: #D2E3FC;\n",
              "      --hover-bg-color: #434B5C;\n",
              "      --hover-fill-color: #FFFFFF;\n",
              "      --disabled-bg-color: #3B4455;\n",
              "      --disabled-fill-color: #666;\n",
              "  }\n",
              "\n",
              "  .colab-df-quickchart {\n",
              "    background-color: var(--bg-color);\n",
              "    border: none;\n",
              "    border-radius: 50%;\n",
              "    cursor: pointer;\n",
              "    display: none;\n",
              "    fill: var(--fill-color);\n",
              "    height: 32px;\n",
              "    padding: 0;\n",
              "    width: 32px;\n",
              "  }\n",
              "\n",
              "  .colab-df-quickchart:hover {\n",
              "    background-color: var(--hover-bg-color);\n",
              "    box-shadow: 0 1px 2px rgba(60, 64, 67, 0.3), 0 1px 3px 1px rgba(60, 64, 67, 0.15);\n",
              "    fill: var(--button-hover-fill-color);\n",
              "  }\n",
              "\n",
              "  .colab-df-quickchart-complete:disabled,\n",
              "  .colab-df-quickchart-complete:disabled:hover {\n",
              "    background-color: var(--disabled-bg-color);\n",
              "    fill: var(--disabled-fill-color);\n",
              "    box-shadow: none;\n",
              "  }\n",
              "\n",
              "  .colab-df-spinner {\n",
              "    border: 2px solid var(--fill-color);\n",
              "    border-color: transparent;\n",
              "    border-bottom-color: var(--fill-color);\n",
              "    animation:\n",
              "      spin 1s steps(1) infinite;\n",
              "  }\n",
              "\n",
              "  @keyframes spin {\n",
              "    0% {\n",
              "      border-color: transparent;\n",
              "      border-bottom-color: var(--fill-color);\n",
              "      border-left-color: var(--fill-color);\n",
              "    }\n",
              "    20% {\n",
              "      border-color: transparent;\n",
              "      border-left-color: var(--fill-color);\n",
              "      border-top-color: var(--fill-color);\n",
              "    }\n",
              "    30% {\n",
              "      border-color: transparent;\n",
              "      border-left-color: var(--fill-color);\n",
              "      border-top-color: var(--fill-color);\n",
              "      border-right-color: var(--fill-color);\n",
              "    }\n",
              "    40% {\n",
              "      border-color: transparent;\n",
              "      border-right-color: var(--fill-color);\n",
              "      border-top-color: var(--fill-color);\n",
              "    }\n",
              "    60% {\n",
              "      border-color: transparent;\n",
              "      border-right-color: var(--fill-color);\n",
              "    }\n",
              "    80% {\n",
              "      border-color: transparent;\n",
              "      border-right-color: var(--fill-color);\n",
              "      border-bottom-color: var(--fill-color);\n",
              "    }\n",
              "    90% {\n",
              "      border-color: transparent;\n",
              "      border-bottom-color: var(--fill-color);\n",
              "    }\n",
              "  }\n",
              "</style>\n",
              "\n",
              "  <script>\n",
              "    async function quickchart(key) {\n",
              "      const quickchartButtonEl =\n",
              "        document.querySelector('#' + key + ' button');\n",
              "      quickchartButtonEl.disabled = true;  // To prevent multiple clicks.\n",
              "      quickchartButtonEl.classList.add('colab-df-spinner');\n",
              "      try {\n",
              "        const charts = await google.colab.kernel.invokeFunction(\n",
              "            'suggestCharts', [key], {});\n",
              "      } catch (error) {\n",
              "        console.error('Error during call to suggestCharts:', error);\n",
              "      }\n",
              "      quickchartButtonEl.classList.remove('colab-df-spinner');\n",
              "      quickchartButtonEl.classList.add('colab-df-quickchart-complete');\n",
              "    }\n",
              "    (() => {\n",
              "      let quickchartButtonEl =\n",
              "        document.querySelector('#df-b085d7bb-4807-43a5-bb66-e53990fb10cd button');\n",
              "      quickchartButtonEl.style.display =\n",
              "        google.colab.kernel.accessAllowed ? 'block' : 'none';\n",
              "    })();\n",
              "  </script>\n",
              "</div>\n",
              "    </div>\n",
              "  </div>\n"
            ]
          },
          "metadata": {},
          "execution_count": 28
        }
      ]
    },
    {
      "cell_type": "code",
      "source": [
        "type(texts)"
      ],
      "metadata": {
        "colab": {
          "base_uri": "https://localhost:8080/"
        },
        "id": "AqdpRq2Fjpeq",
        "outputId": "83e28c6c-56a1-4010-8202-f34f8ee54009"
      },
      "execution_count": 33,
      "outputs": [
        {
          "output_type": "execute_result",
          "data": {
            "text/plain": [
              "pyspark.sql.dataframe.DataFrame"
            ]
          },
          "metadata": {},
          "execution_count": 33
        }
      ]
    },
    {
      "cell_type": "code",
      "source": [
        "texts.limit(5).toPandas()['filename'][0]"
      ],
      "metadata": {
        "colab": {
          "base_uri": "https://localhost:8080/",
          "height": 35
        },
        "id": "mNZEDATzjTqd",
        "outputId": "81935dd0-4086-4957-f7cb-48f70ce0a470"
      },
      "execution_count": 32,
      "outputs": [
        {
          "output_type": "execute_result",
          "data": {
            "text/plain": [
              "'file:/content/drive/My Drive/BBC News Summary/Summaries/entertainment/005.txt'"
            ],
            "application/vnd.google.colaboratory.intrinsic+json": {
              "type": "string"
            }
          },
          "metadata": {},
          "execution_count": 32
        }
      ]
    },
    {
      "cell_type": "code",
      "source": [
        "# Create a new column that stores the article topics for the text summarries\n",
        "# Note: getItem will get the item by its index, which starts from 0\n",
        "texts = texts.withColumn(\n",
        "  'topic',\n",
        "  fun.split('filename', '/').getItem(6)\n",
        "  )"
      ],
      "metadata": {
        "id": "INS0sT4hoSW7"
      },
      "execution_count": 36,
      "outputs": []
    },
    {
      "cell_type": "code",
      "source": [
        " # Take a look at the newly created label column\n",
        "texts.limit(5).toPandas()"
      ],
      "metadata": {
        "colab": {
          "base_uri": "https://localhost:8080/",
          "height": 206
        },
        "id": "O1MZe6-fpToa",
        "outputId": "90c069e6-026c-4bf1-e2df-46833f9d22c2"
      },
      "execution_count": 37,
      "outputs": [
        {
          "output_type": "execute_result",
          "data": {
            "text/plain": [
              "                                            filename  \\\n",
              "0  file:/content/drive/My Drive/BBC News Summary/...   \n",
              "1  file:/content/drive/My Drive/BBC News Summary/...   \n",
              "2  file:/content/drive/My Drive/BBC News Summary/...   \n",
              "3  file:/content/drive/My Drive/BBC News Summary/...   \n",
              "4  file:/content/drive/My Drive/BBC News Summary/...   \n",
              "\n",
              "                                                text          topic  \n",
              "0  Mary Poppins was originally created by author ...  entertainment  \n",
              "1  The messages will be \"unwrapped\" by sculptor R...  entertainment  \n",
              "2  \"It was very hard to follow last year's extrem...  entertainment  \n",
              "3  Bloom is to be formally presented with the Han...  entertainment  \n",
              "4  The classic film It's A Wonderful Life is to b...  entertainment  "
            ],
            "text/html": [
              "\n",
              "  <div id=\"df-c7728931-9e25-4316-8f8b-29ba927c6ef0\" class=\"colab-df-container\">\n",
              "    <div>\n",
              "<style scoped>\n",
              "    .dataframe tbody tr th:only-of-type {\n",
              "        vertical-align: middle;\n",
              "    }\n",
              "\n",
              "    .dataframe tbody tr th {\n",
              "        vertical-align: top;\n",
              "    }\n",
              "\n",
              "    .dataframe thead th {\n",
              "        text-align: right;\n",
              "    }\n",
              "</style>\n",
              "<table border=\"1\" class=\"dataframe\">\n",
              "  <thead>\n",
              "    <tr style=\"text-align: right;\">\n",
              "      <th></th>\n",
              "      <th>filename</th>\n",
              "      <th>text</th>\n",
              "      <th>topic</th>\n",
              "    </tr>\n",
              "  </thead>\n",
              "  <tbody>\n",
              "    <tr>\n",
              "      <th>0</th>\n",
              "      <td>file:/content/drive/My Drive/BBC News Summary/...</td>\n",
              "      <td>Mary Poppins was originally created by author ...</td>\n",
              "      <td>entertainment</td>\n",
              "    </tr>\n",
              "    <tr>\n",
              "      <th>1</th>\n",
              "      <td>file:/content/drive/My Drive/BBC News Summary/...</td>\n",
              "      <td>The messages will be \"unwrapped\" by sculptor R...</td>\n",
              "      <td>entertainment</td>\n",
              "    </tr>\n",
              "    <tr>\n",
              "      <th>2</th>\n",
              "      <td>file:/content/drive/My Drive/BBC News Summary/...</td>\n",
              "      <td>\"It was very hard to follow last year's extrem...</td>\n",
              "      <td>entertainment</td>\n",
              "    </tr>\n",
              "    <tr>\n",
              "      <th>3</th>\n",
              "      <td>file:/content/drive/My Drive/BBC News Summary/...</td>\n",
              "      <td>Bloom is to be formally presented with the Han...</td>\n",
              "      <td>entertainment</td>\n",
              "    </tr>\n",
              "    <tr>\n",
              "      <th>4</th>\n",
              "      <td>file:/content/drive/My Drive/BBC News Summary/...</td>\n",
              "      <td>The classic film It's A Wonderful Life is to b...</td>\n",
              "      <td>entertainment</td>\n",
              "    </tr>\n",
              "  </tbody>\n",
              "</table>\n",
              "</div>\n",
              "    <div class=\"colab-df-buttons\">\n",
              "\n",
              "  <div class=\"colab-df-container\">\n",
              "    <button class=\"colab-df-convert\" onclick=\"convertToInteractive('df-c7728931-9e25-4316-8f8b-29ba927c6ef0')\"\n",
              "            title=\"Convert this dataframe to an interactive table.\"\n",
              "            style=\"display:none;\">\n",
              "\n",
              "  <svg xmlns=\"http://www.w3.org/2000/svg\" height=\"24px\" viewBox=\"0 -960 960 960\">\n",
              "    <path d=\"M120-120v-720h720v720H120Zm60-500h600v-160H180v160Zm220 220h160v-160H400v160Zm0 220h160v-160H400v160ZM180-400h160v-160H180v160Zm440 0h160v-160H620v160ZM180-180h160v-160H180v160Zm440 0h160v-160H620v160Z\"/>\n",
              "  </svg>\n",
              "    </button>\n",
              "\n",
              "  <style>\n",
              "    .colab-df-container {\n",
              "      display:flex;\n",
              "      gap: 12px;\n",
              "    }\n",
              "\n",
              "    .colab-df-convert {\n",
              "      background-color: #E8F0FE;\n",
              "      border: none;\n",
              "      border-radius: 50%;\n",
              "      cursor: pointer;\n",
              "      display: none;\n",
              "      fill: #1967D2;\n",
              "      height: 32px;\n",
              "      padding: 0 0 0 0;\n",
              "      width: 32px;\n",
              "    }\n",
              "\n",
              "    .colab-df-convert:hover {\n",
              "      background-color: #E2EBFA;\n",
              "      box-shadow: 0px 1px 2px rgba(60, 64, 67, 0.3), 0px 1px 3px 1px rgba(60, 64, 67, 0.15);\n",
              "      fill: #174EA6;\n",
              "    }\n",
              "\n",
              "    .colab-df-buttons div {\n",
              "      margin-bottom: 4px;\n",
              "    }\n",
              "\n",
              "    [theme=dark] .colab-df-convert {\n",
              "      background-color: #3B4455;\n",
              "      fill: #D2E3FC;\n",
              "    }\n",
              "\n",
              "    [theme=dark] .colab-df-convert:hover {\n",
              "      background-color: #434B5C;\n",
              "      box-shadow: 0px 1px 3px 1px rgba(0, 0, 0, 0.15);\n",
              "      filter: drop-shadow(0px 1px 2px rgba(0, 0, 0, 0.3));\n",
              "      fill: #FFFFFF;\n",
              "    }\n",
              "  </style>\n",
              "\n",
              "    <script>\n",
              "      const buttonEl =\n",
              "        document.querySelector('#df-c7728931-9e25-4316-8f8b-29ba927c6ef0 button.colab-df-convert');\n",
              "      buttonEl.style.display =\n",
              "        google.colab.kernel.accessAllowed ? 'block' : 'none';\n",
              "\n",
              "      async function convertToInteractive(key) {\n",
              "        const element = document.querySelector('#df-c7728931-9e25-4316-8f8b-29ba927c6ef0');\n",
              "        const dataTable =\n",
              "          await google.colab.kernel.invokeFunction('convertToInteractive',\n",
              "                                                    [key], {});\n",
              "        if (!dataTable) return;\n",
              "\n",
              "        const docLinkHtml = 'Like what you see? Visit the ' +\n",
              "          '<a target=\"_blank\" href=https://colab.research.google.com/notebooks/data_table.ipynb>data table notebook</a>'\n",
              "          + ' to learn more about interactive tables.';\n",
              "        element.innerHTML = '';\n",
              "        dataTable['output_type'] = 'display_data';\n",
              "        await google.colab.output.renderOutput(dataTable, element);\n",
              "        const docLink = document.createElement('div');\n",
              "        docLink.innerHTML = docLinkHtml;\n",
              "        element.appendChild(docLink);\n",
              "      }\n",
              "    </script>\n",
              "  </div>\n",
              "\n",
              "\n",
              "<div id=\"df-5a07d174-6d75-4de8-b38f-bcb39c30309d\">\n",
              "  <button class=\"colab-df-quickchart\" onclick=\"quickchart('df-5a07d174-6d75-4de8-b38f-bcb39c30309d')\"\n",
              "            title=\"Suggest charts.\"\n",
              "            style=\"display:none;\">\n",
              "\n",
              "<svg xmlns=\"http://www.w3.org/2000/svg\" height=\"24px\"viewBox=\"0 0 24 24\"\n",
              "     width=\"24px\">\n",
              "    <g>\n",
              "        <path d=\"M19 3H5c-1.1 0-2 .9-2 2v14c0 1.1.9 2 2 2h14c1.1 0 2-.9 2-2V5c0-1.1-.9-2-2-2zM9 17H7v-7h2v7zm4 0h-2V7h2v10zm4 0h-2v-4h2v4z\"/>\n",
              "    </g>\n",
              "</svg>\n",
              "  </button>\n",
              "\n",
              "<style>\n",
              "  .colab-df-quickchart {\n",
              "      --bg-color: #E8F0FE;\n",
              "      --fill-color: #1967D2;\n",
              "      --hover-bg-color: #E2EBFA;\n",
              "      --hover-fill-color: #174EA6;\n",
              "      --disabled-fill-color: #AAA;\n",
              "      --disabled-bg-color: #DDD;\n",
              "  }\n",
              "\n",
              "  [theme=dark] .colab-df-quickchart {\n",
              "      --bg-color: #3B4455;\n",
              "      --fill-color: #D2E3FC;\n",
              "      --hover-bg-color: #434B5C;\n",
              "      --hover-fill-color: #FFFFFF;\n",
              "      --disabled-bg-color: #3B4455;\n",
              "      --disabled-fill-color: #666;\n",
              "  }\n",
              "\n",
              "  .colab-df-quickchart {\n",
              "    background-color: var(--bg-color);\n",
              "    border: none;\n",
              "    border-radius: 50%;\n",
              "    cursor: pointer;\n",
              "    display: none;\n",
              "    fill: var(--fill-color);\n",
              "    height: 32px;\n",
              "    padding: 0;\n",
              "    width: 32px;\n",
              "  }\n",
              "\n",
              "  .colab-df-quickchart:hover {\n",
              "    background-color: var(--hover-bg-color);\n",
              "    box-shadow: 0 1px 2px rgba(60, 64, 67, 0.3), 0 1px 3px 1px rgba(60, 64, 67, 0.15);\n",
              "    fill: var(--button-hover-fill-color);\n",
              "  }\n",
              "\n",
              "  .colab-df-quickchart-complete:disabled,\n",
              "  .colab-df-quickchart-complete:disabled:hover {\n",
              "    background-color: var(--disabled-bg-color);\n",
              "    fill: var(--disabled-fill-color);\n",
              "    box-shadow: none;\n",
              "  }\n",
              "\n",
              "  .colab-df-spinner {\n",
              "    border: 2px solid var(--fill-color);\n",
              "    border-color: transparent;\n",
              "    border-bottom-color: var(--fill-color);\n",
              "    animation:\n",
              "      spin 1s steps(1) infinite;\n",
              "  }\n",
              "\n",
              "  @keyframes spin {\n",
              "    0% {\n",
              "      border-color: transparent;\n",
              "      border-bottom-color: var(--fill-color);\n",
              "      border-left-color: var(--fill-color);\n",
              "    }\n",
              "    20% {\n",
              "      border-color: transparent;\n",
              "      border-left-color: var(--fill-color);\n",
              "      border-top-color: var(--fill-color);\n",
              "    }\n",
              "    30% {\n",
              "      border-color: transparent;\n",
              "      border-left-color: var(--fill-color);\n",
              "      border-top-color: var(--fill-color);\n",
              "      border-right-color: var(--fill-color);\n",
              "    }\n",
              "    40% {\n",
              "      border-color: transparent;\n",
              "      border-right-color: var(--fill-color);\n",
              "      border-top-color: var(--fill-color);\n",
              "    }\n",
              "    60% {\n",
              "      border-color: transparent;\n",
              "      border-right-color: var(--fill-color);\n",
              "    }\n",
              "    80% {\n",
              "      border-color: transparent;\n",
              "      border-right-color: var(--fill-color);\n",
              "      border-bottom-color: var(--fill-color);\n",
              "    }\n",
              "    90% {\n",
              "      border-color: transparent;\n",
              "      border-bottom-color: var(--fill-color);\n",
              "    }\n",
              "  }\n",
              "</style>\n",
              "\n",
              "  <script>\n",
              "    async function quickchart(key) {\n",
              "      const quickchartButtonEl =\n",
              "        document.querySelector('#' + key + ' button');\n",
              "      quickchartButtonEl.disabled = true;  // To prevent multiple clicks.\n",
              "      quickchartButtonEl.classList.add('colab-df-spinner');\n",
              "      try {\n",
              "        const charts = await google.colab.kernel.invokeFunction(\n",
              "            'suggestCharts', [key], {});\n",
              "      } catch (error) {\n",
              "        console.error('Error during call to suggestCharts:', error);\n",
              "      }\n",
              "      quickchartButtonEl.classList.remove('colab-df-spinner');\n",
              "      quickchartButtonEl.classList.add('colab-df-quickchart-complete');\n",
              "    }\n",
              "    (() => {\n",
              "      let quickchartButtonEl =\n",
              "        document.querySelector('#df-5a07d174-6d75-4de8-b38f-bcb39c30309d button');\n",
              "      quickchartButtonEl.style.display =\n",
              "        google.colab.kernel.accessAllowed ? 'block' : 'none';\n",
              "    })();\n",
              "  </script>\n",
              "</div>\n",
              "    </div>\n",
              "  </div>\n"
            ]
          },
          "metadata": {},
          "execution_count": 37
        }
      ]
    },
    {
      "cell_type": "code",
      "source": [
        "# Take a look at the number of documents pertaining to each label\n",
        "label_counts = texts.groupBy('topic').count().toPandas()\n",
        "label_counts.plot(kind = 'bar', figsize = (10, 5))\n",
        "plt.xticks(\n",
        "  ticks = range(len(label_counts)),\n",
        "  labels = label_counts['topic']\n",
        " )"
      ],
      "metadata": {
        "colab": {
          "base_uri": "https://localhost:8080/",
          "height": 556
        },
        "id": "F6xBDgxUqUw4",
        "outputId": "e0af782a-e11e-4ed9-b93c-3c5f5954de58"
      },
      "execution_count": null,
      "outputs": [
        {
          "output_type": "display_data",
          "data": {
            "text/plain": [
              "<IPython.core.display.HTML object>"
            ],
            "text/html": [
              "\n",
              "  <style>\n",
              "    pre {\n",
              "        white-space: pre-wrap;\n",
              "    }\n",
              "  </style>\n",
              "  "
            ]
          },
          "metadata": {}
        },
        {
          "output_type": "display_data",
          "data": {
            "text/plain": [
              "<IPython.core.display.HTML object>"
            ],
            "text/html": [
              "\n",
              "  <style>\n",
              "    pre {\n",
              "        white-space: pre-wrap;\n",
              "    }\n",
              "  </style>\n",
              "  "
            ]
          },
          "metadata": {}
        },
        {
          "output_type": "display_data",
          "data": {
            "text/plain": [
              "<IPython.core.display.HTML object>"
            ],
            "text/html": [
              "\n",
              "  <style>\n",
              "    pre {\n",
              "        white-space: pre-wrap;\n",
              "    }\n",
              "  </style>\n",
              "  "
            ]
          },
          "metadata": {}
        },
        {
          "output_type": "execute_result",
          "data": {
            "text/plain": [
              "([<matplotlib.axis.XTick at 0x7f1967b9d690>,\n",
              "  <matplotlib.axis.XTick at 0x7f1967b9dad0>,\n",
              "  <matplotlib.axis.XTick at 0x7f1966f71ad0>,\n",
              "  <matplotlib.axis.XTick at 0x7f19672034d0>,\n",
              "  <matplotlib.axis.XTick at 0x7f1967415650>],\n",
              " [Text(0, 0, 'politics'),\n",
              "  Text(0, 0, 'entertainment'),\n",
              "  Text(0, 0, 'business'),\n",
              "  Text(0, 0, 'sport'),\n",
              "  Text(0, 0, 'tech')])"
            ]
          },
          "metadata": {},
          "execution_count": 198
        },
        {
          "output_type": "display_data",
          "data": {
            "text/plain": [
              "<Figure size 720x360 with 1 Axes>"
            ],
            "image/png": "[encoded data removed]"
          },
          "metadata": {
            "needs_background": "light"
          }
        }
      ]
    },
    {
      "cell_type": "code",
      "source": [
        "# Take a look at the schema of the Spark NLP dataframe\n",
        "texts.printSchema()"
      ],
      "metadata": {
        "colab": {
          "base_uri": "https://localhost:8080/",
          "height": 104
        },
        "id": "-wc9j-Fbq-le",
        "outputId": "3fa9bc1b-c40e-49b6-b419-a503e2dcb0ff"
      },
      "execution_count": null,
      "outputs": [
        {
          "output_type": "display_data",
          "data": {
            "text/plain": [
              "<IPython.core.display.HTML object>"
            ],
            "text/html": [
              "\n",
              "  <style>\n",
              "    pre {\n",
              "        white-space: pre-wrap;\n",
              "    }\n",
              "  </style>\n",
              "  "
            ]
          },
          "metadata": {}
        },
        {
          "output_type": "display_data",
          "data": {
            "text/plain": [
              "<IPython.core.display.HTML object>"
            ],
            "text/html": [
              "\n",
              "  <style>\n",
              "    pre {\n",
              "        white-space: pre-wrap;\n",
              "    }\n",
              "  </style>\n",
              "  "
            ]
          },
          "metadata": {}
        },
        {
          "output_type": "display_data",
          "data": {
            "text/plain": [
              "<IPython.core.display.HTML object>"
            ],
            "text/html": [
              "\n",
              "  <style>\n",
              "    pre {\n",
              "        white-space: pre-wrap;\n",
              "    }\n",
              "  </style>\n",
              "  "
            ]
          },
          "metadata": {}
        },
        {
          "output_type": "stream",
          "name": "stdout",
          "text": [
            "root\n",
            " |-- filename: string (nullable = true)\n",
            " |-- text: string (nullable = true)\n",
            " |-- topic: string (nullable = true)\n",
            "\n"
          ]
        }
      ]
    },
    {
      "cell_type": "code",
      "source": [
        "# Randomly split the Spark NLP dataframe into train and test sets\n",
        "train, test = texts.randomSplit([0.8, 0.2], seed = 123)"
      ],
      "metadata": {
        "colab": {
          "base_uri": "https://localhost:8080/",
          "height": 17
        },
        "id": "7rxEbfcdtpw7",
        "outputId": "e2d3065b-8c9c-496b-a5c5-a0918c5fea7f"
      },
      "execution_count": null,
      "outputs": [
        {
          "output_type": "display_data",
          "data": {
            "text/plain": [
              "<IPython.core.display.HTML object>"
            ],
            "text/html": [
              "\n",
              "  <style>\n",
              "    pre {\n",
              "        white-space: pre-wrap;\n",
              "    }\n",
              "  </style>\n",
              "  "
            ]
          },
          "metadata": {}
        },
        {
          "output_type": "display_data",
          "data": {
            "text/plain": [
              "<IPython.core.display.HTML object>"
            ],
            "text/html": [
              "\n",
              "  <style>\n",
              "    pre {\n",
              "        white-space: pre-wrap;\n",
              "    }\n",
              "  </style>\n",
              "  "
            ]
          },
          "metadata": {}
        },
        {
          "output_type": "display_data",
          "data": {
            "text/plain": [
              "<IPython.core.display.HTML object>"
            ],
            "text/html": [
              "\n",
              "  <style>\n",
              "    pre {\n",
              "        white-space: pre-wrap;\n",
              "    }\n",
              "  </style>\n",
              "  "
            ]
          },
          "metadata": {}
        }
      ]
    },
    {
      "cell_type": "code",
      "source": [
        "# Define the assembler\n",
        "\"\"\"\n",
        "To process raw text in Spark NLP, we need to get raw data transformed into Document type at first.\n",
        "DocumentAssembler() is a special transformer that does this for us\n",
        "\"\"\"\n",
        "assembler = DocumentAssembler()\\\n",
        "  .setInputCol('text')\\\n",
        "  .setOutputCol('document')\n",
        "docs = assembler.transform(texts)\n",
        "docs.limit(5).toPandas()"
      ],
      "metadata": {
        "colab": {
          "base_uri": "https://localhost:8080/",
          "height": 206
        },
        "id": "zVpQqdrpt7aM",
        "outputId": "2d9db40f-b3f9-4bbf-8499-3f6936874d3b"
      },
      "execution_count": null,
      "outputs": [
        {
          "output_type": "display_data",
          "data": {
            "text/plain": [
              "<IPython.core.display.HTML object>"
            ],
            "text/html": [
              "\n",
              "  <style>\n",
              "    pre {\n",
              "        white-space: pre-wrap;\n",
              "    }\n",
              "  </style>\n",
              "  "
            ]
          },
          "metadata": {}
        },
        {
          "output_type": "display_data",
          "data": {
            "text/plain": [
              "<IPython.core.display.HTML object>"
            ],
            "text/html": [
              "\n",
              "  <style>\n",
              "    pre {\n",
              "        white-space: pre-wrap;\n",
              "    }\n",
              "  </style>\n",
              "  "
            ]
          },
          "metadata": {}
        },
        {
          "output_type": "display_data",
          "data": {
            "text/plain": [
              "<IPython.core.display.HTML object>"
            ],
            "text/html": [
              "\n",
              "  <style>\n",
              "    pre {\n",
              "        white-space: pre-wrap;\n",
              "    }\n",
              "  </style>\n",
              "  "
            ]
          },
          "metadata": {}
        },
        {
          "output_type": "execute_result",
          "data": {
            "text/plain": [
              "                                            filename  \\\n",
              "0  file:/content/drive/My Drive/YouTube Channel/D...   \n",
              "1  file:/content/drive/My Drive/YouTube Channel/D...   \n",
              "2  file:/content/drive/My Drive/YouTube Channel/D...   \n",
              "3  file:/content/drive/My Drive/YouTube Channel/D...   \n",
              "4  file:/content/drive/My Drive/YouTube Channel/D...   \n",
              "\n",
              "                                                text     topic  \\\n",
              "0  TimeWarner said fourth quarter sales rose 2% t...  business   \n",
              "1  Yukos' owner Menatep Group says it will ask Ro...  business   \n",
              "2  The Vestey Group said it had owned the land si...  business   \n",
              "3  Leisure group Rank could unveil plans to demer...  business   \n",
              "4  \"Journalists are the lifeblood of any newspape...  business   \n",
              "\n",
              "                                            document  \n",
              "0  [(document, 0, 899, TimeWarner said fourth qua...  \n",
              "1  [(document, 0, 689, Yukos' owner Menatep Group...  \n",
              "2  [(document, 0, 943, The Vestey Group said it h...  \n",
              "3  [(document, 0, 908, Leisure group Rank could u...  \n",
              "4  [(document, 0, 1082, \"Journalists are the life...  "
            ],
            "text/html": [
              "\n",
              "  <div id=\"df-52e6a5b1-5d5b-4332-a1ce-f046200875ef\">\n",
              "    <div class=\"colab-df-container\">\n",
              "      <div>\n",
              "<style scoped>\n",
              "    .dataframe tbody tr th:only-of-type {\n",
              "        vertical-align: middle;\n",
              "    }\n",
              "\n",
              "    .dataframe tbody tr th {\n",
              "        vertical-align: top;\n",
              "    }\n",
              "\n",
              "    .dataframe thead th {\n",
              "        text-align: right;\n",
              "    }\n",
              "</style>\n",
              "<table border=\"1\" class=\"dataframe\">\n",
              "  <thead>\n",
              "    <tr style=\"text-align: right;\">\n",
              "      <th></th>\n",
              "      <th>filename</th>\n",
              "      <th>text</th>\n",
              "      <th>topic</th>\n",
              "      <th>document</th>\n",
              "    </tr>\n",
              "  </thead>\n",
              "  <tbody>\n",
              "    <tr>\n",
              "      <th>0</th>\n",
              "      <td>file:/content/drive/My Drive/YouTube Channel/D...</td>\n",
              "      <td>TimeWarner said fourth quarter sales rose 2% t...</td>\n",
              "      <td>business</td>\n",
              "      <td>[(document, 0, 899, TimeWarner said fourth qua...</td>\n",
              "    </tr>\n",
              "    <tr>\n",
              "      <th>1</th>\n",
              "      <td>file:/content/drive/My Drive/YouTube Channel/D...</td>\n",
              "      <td>Yukos' owner Menatep Group says it will ask Ro...</td>\n",
              "      <td>business</td>\n",
              "      <td>[(document, 0, 689, Yukos' owner Menatep Group...</td>\n",
              "    </tr>\n",
              "    <tr>\n",
              "      <th>2</th>\n",
              "      <td>file:/content/drive/My Drive/YouTube Channel/D...</td>\n",
              "      <td>The Vestey Group said it had owned the land si...</td>\n",
              "      <td>business</td>\n",
              "      <td>[(document, 0, 943, The Vestey Group said it h...</td>\n",
              "    </tr>\n",
              "    <tr>\n",
              "      <th>3</th>\n",
              "      <td>file:/content/drive/My Drive/YouTube Channel/D...</td>\n",
              "      <td>Leisure group Rank could unveil plans to demer...</td>\n",
              "      <td>business</td>\n",
              "      <td>[(document, 0, 908, Leisure group Rank could u...</td>\n",
              "    </tr>\n",
              "    <tr>\n",
              "      <th>4</th>\n",
              "      <td>file:/content/drive/My Drive/YouTube Channel/D...</td>\n",
              "      <td>\"Journalists are the lifeblood of any newspape...</td>\n",
              "      <td>business</td>\n",
              "      <td>[(document, 0, 1082, \"Journalists are the life...</td>\n",
              "    </tr>\n",
              "  </tbody>\n",
              "</table>\n",
              "</div>\n",
              "      <button class=\"colab-df-convert\" onclick=\"convertToInteractive('df-52e6a5b1-5d5b-4332-a1ce-f046200875ef')\"\n",
              "              title=\"Convert this dataframe to an interactive table.\"\n",
              "              style=\"display:none;\">\n",
              "        \n",
              "  <svg xmlns=\"http://www.w3.org/2000/svg\" height=\"24px\"viewBox=\"0 0 24 24\"\n",
              "       width=\"24px\">\n",
              "    <path d=\"M0 0h24v24H0V0z\" fill=\"none\"/>\n",
              "    <path d=\"M18.56 5.44l.94 2.06.94-2.06 2.06-.94-2.06-.94-.94-2.06-.94 2.06-2.06.94zm-11 1L8.5 8.5l.94-2.06 2.06-.94-2.06-.94L8.5 2.5l-.94 2.06-2.06.94zm10 10l.94 2.06.94-2.06 2.06-.94-2.06-.94-.94-2.06-.94 2.06-2.06.94z\"/><path d=\"M17.41 7.96l-1.37-1.37c-.4-.4-.92-.59-1.43-.59-.52 0-1.04.2-1.43.59L10.3 9.45l-7.72 7.72c-.78.78-.78 2.05 0 2.83L4 21.41c.39.39.9.59 1.41.59.51 0 1.02-.2 1.41-.59l7.78-7.78 2.81-2.81c.8-.78.8-2.07 0-2.86zM5.41 20L4 18.59l7.72-7.72 1.47 1.35L5.41 20z\"/>\n",
              "  </svg>\n",
              "      </button>\n",
              "      \n",
              "  <style>\n",
              "    .colab-df-container {\n",
              "      display:flex;\n",
              "      flex-wrap:wrap;\n",
              "      gap: 12px;\n",
              "    }\n",
              "\n",
              "    .colab-df-convert {\n",
              "      background-color: #E8F0FE;\n",
              "      border: none;\n",
              "      border-radius: 50%;\n",
              "      cursor: pointer;\n",
              "      display: none;\n",
              "      fill: #1967D2;\n",
              "      height: 32px;\n",
              "      padding: 0 0 0 0;\n",
              "      width: 32px;\n",
              "    }\n",
              "\n",
              "    .colab-df-convert:hover {\n",
              "      background-color: #E2EBFA;\n",
              "      box-shadow: 0px 1px 2px rgba(60, 64, 67, 0.3), 0px 1px 3px 1px rgba(60, 64, 67, 0.15);\n",
              "      fill: #174EA6;\n",
              "    }\n",
              "\n",
              "    [theme=dark] .colab-df-convert {\n",
              "      background-color: #3B4455;\n",
              "      fill: #D2E3FC;\n",
              "    }\n",
              "\n",
              "    [theme=dark] .colab-df-convert:hover {\n",
              "      background-color: #434B5C;\n",
              "      box-shadow: 0px 1px 3px 1px rgba(0, 0, 0, 0.15);\n",
              "      filter: drop-shadow(0px 1px 2px rgba(0, 0, 0, 0.3));\n",
              "      fill: #FFFFFF;\n",
              "    }\n",
              "  </style>\n",
              "\n",
              "      <script>\n",
              "        const buttonEl =\n",
              "          document.querySelector('#df-52e6a5b1-5d5b-4332-a1ce-f046200875ef button.colab-df-convert');\n",
              "        buttonEl.style.display =\n",
              "          google.colab.kernel.accessAllowed ? 'block' : 'none';\n",
              "\n",
              "        async function convertToInteractive(key) {\n",
              "          const element = document.querySelector('#df-52e6a5b1-5d5b-4332-a1ce-f046200875ef');\n",
              "          const dataTable =\n",
              "            await google.colab.kernel.invokeFunction('convertToInteractive',\n",
              "                                                     [key], {});\n",
              "          if (!dataTable) return;\n",
              "\n",
              "          const docLinkHtml = 'Like what you see? Visit the ' +\n",
              "            '<a target=\"_blank\" href=https://colab.research.google.com/notebooks/data_table.ipynb>data table notebook</a>'\n",
              "            + ' to learn more about interactive tables.';\n",
              "          element.innerHTML = '';\n",
              "          dataTable['output_type'] = 'display_data';\n",
              "          await google.colab.output.renderOutput(dataTable, element);\n",
              "          const docLink = document.createElement('div');\n",
              "          docLink.innerHTML = docLinkHtml;\n",
              "          element.appendChild(docLink);\n",
              "        }\n",
              "      </script>\n",
              "    </div>\n",
              "  </div>\n",
              "  "
            ]
          },
          "metadata": {},
          "execution_count": 201
        }
      ]
    },
    {
      "cell_type": "code",
      "source": [
        "# Define the sentence detector\n",
        "sentence = SentenceDetector()\\\n",
        "  .setInputCols([\"document\"])\\\n",
        "  .setOutputCol(\"sentences\")\n",
        "docs = sentence.transform(docs)\n",
        "docs.limit(5).toPandas()"
      ],
      "metadata": {
        "colab": {
          "base_uri": "https://localhost:8080/",
          "height": 337
        },
        "id": "s52z029JuRlN",
        "outputId": "d772f638-307e-4b87-da73-01a806185753"
      },
      "execution_count": null,
      "outputs": [
        {
          "output_type": "display_data",
          "data": {
            "text/plain": [
              "<IPython.core.display.HTML object>"
            ],
            "text/html": [
              "\n",
              "  <style>\n",
              "    pre {\n",
              "        white-space: pre-wrap;\n",
              "    }\n",
              "  </style>\n",
              "  "
            ]
          },
          "metadata": {}
        },
        {
          "output_type": "display_data",
          "data": {
            "text/plain": [
              "<IPython.core.display.HTML object>"
            ],
            "text/html": [
              "\n",
              "  <style>\n",
              "    pre {\n",
              "        white-space: pre-wrap;\n",
              "    }\n",
              "  </style>\n",
              "  "
            ]
          },
          "metadata": {}
        },
        {
          "output_type": "display_data",
          "data": {
            "text/plain": [
              "<IPython.core.display.HTML object>"
            ],
            "text/html": [
              "\n",
              "  <style>\n",
              "    pre {\n",
              "        white-space: pre-wrap;\n",
              "    }\n",
              "  </style>\n",
              "  "
            ]
          },
          "metadata": {}
        },
        {
          "output_type": "execute_result",
          "data": {
            "text/plain": [
              "                                            filename  \\\n",
              "0  file:/content/drive/My Drive/YouTube Channel/D...   \n",
              "1  file:/content/drive/My Drive/YouTube Channel/D...   \n",
              "2  file:/content/drive/My Drive/YouTube Channel/D...   \n",
              "3  file:/content/drive/My Drive/YouTube Channel/D...   \n",
              "4  file:/content/drive/My Drive/YouTube Channel/D...   \n",
              "\n",
              "                                                text     topic  \\\n",
              "0  TimeWarner said fourth quarter sales rose 2% t...  business   \n",
              "1  Yukos' owner Menatep Group says it will ask Ro...  business   \n",
              "2  The Vestey Group said it had owned the land si...  business   \n",
              "3  Leisure group Rank could unveil plans to demer...  business   \n",
              "4  \"Journalists are the lifeblood of any newspape...  business   \n",
              "\n",
              "                                            document  \\\n",
              "0  [(document, 0, 899, TimeWarner said fourth qua...   \n",
              "1  [(document, 0, 689, Yukos' owner Menatep Group...   \n",
              "2  [(document, 0, 943, The Vestey Group said it h...   \n",
              "3  [(document, 0, 908, Leisure group Rank could u...   \n",
              "4  [(document, 0, 1082, \"Journalists are the life...   \n",
              "\n",
              "                                           sentences  \n",
              "0  [(document, 0, 899, TimeWarner said fourth qua...  \n",
              "1  [(document, 0, 485, Yukos' owner Menatep Group...  \n",
              "2  [(document, 0, 873, The Vestey Group said it h...  \n",
              "3  [(document, 0, 908, Leisure group Rank could u...  \n",
              "4  [(document, 0, 1082, \"Journalists are the life...  "
            ],
            "text/html": [
              "\n",
              "  <div id=\"df-4c2ed1d0-93f8-4c4f-b560-eccdb3303397\">\n",
              "    <div class=\"colab-df-container\">\n",
              "      <div>\n",
              "<style scoped>\n",
              "    .dataframe tbody tr th:only-of-type {\n",
              "        vertical-align: middle;\n",
              "    }\n",
              "\n",
              "    .dataframe tbody tr th {\n",
              "        vertical-align: top;\n",
              "    }\n",
              "\n",
              "    .dataframe thead th {\n",
              "        text-align: right;\n",
              "    }\n",
              "</style>\n",
              "<table border=\"1\" class=\"dataframe\">\n",
              "  <thead>\n",
              "    <tr style=\"text-align: right;\">\n",
              "      <th></th>\n",
              "      <th>filename</th>\n",
              "      <th>text</th>\n",
              "      <th>topic</th>\n",
              "      <th>document</th>\n",
              "      <th>sentences</th>\n",
              "    </tr>\n",
              "  </thead>\n",
              "  <tbody>\n",
              "    <tr>\n",
              "      <th>0</th>\n",
              "      <td>file:/content/drive/My Drive/YouTube Channel/D...</td>\n",
              "      <td>TimeWarner said fourth quarter sales rose 2% t...</td>\n",
              "      <td>business</td>\n",
              "      <td>[(document, 0, 899, TimeWarner said fourth qua...</td>\n",
              "      <td>[(document, 0, 899, TimeWarner said fourth qua...</td>\n",
              "    </tr>\n",
              "    <tr>\n",
              "      <th>1</th>\n",
              "      <td>file:/content/drive/My Drive/YouTube Channel/D...</td>\n",
              "      <td>Yukos' owner Menatep Group says it will ask Ro...</td>\n",
              "      <td>business</td>\n",
              "      <td>[(document, 0, 689, Yukos' owner Menatep Group...</td>\n",
              "      <td>[(document, 0, 485, Yukos' owner Menatep Group...</td>\n",
              "    </tr>\n",
              "    <tr>\n",
              "      <th>2</th>\n",
              "      <td>file:/content/drive/My Drive/YouTube Channel/D...</td>\n",
              "      <td>The Vestey Group said it had owned the land si...</td>\n",
              "      <td>business</td>\n",
              "      <td>[(document, 0, 943, The Vestey Group said it h...</td>\n",
              "      <td>[(document, 0, 873, The Vestey Group said it h...</td>\n",
              "    </tr>\n",
              "    <tr>\n",
              "      <th>3</th>\n",
              "      <td>file:/content/drive/My Drive/YouTube Channel/D...</td>\n",
              "      <td>Leisure group Rank could unveil plans to demer...</td>\n",
              "      <td>business</td>\n",
              "      <td>[(document, 0, 908, Leisure group Rank could u...</td>\n",
              "      <td>[(document, 0, 908, Leisure group Rank could u...</td>\n",
              "    </tr>\n",
              "    <tr>\n",
              "      <th>4</th>\n",
              "      <td>file:/content/drive/My Drive/YouTube Channel/D...</td>\n",
              "      <td>\"Journalists are the lifeblood of any newspape...</td>\n",
              "      <td>business</td>\n",
              "      <td>[(document, 0, 1082, \"Journalists are the life...</td>\n",
              "      <td>[(document, 0, 1082, \"Journalists are the life...</td>\n",
              "    </tr>\n",
              "  </tbody>\n",
              "</table>\n",
              "</div>\n",
              "      <button class=\"colab-df-convert\" onclick=\"convertToInteractive('df-4c2ed1d0-93f8-4c4f-b560-eccdb3303397')\"\n",
              "              title=\"Convert this dataframe to an interactive table.\"\n",
              "              style=\"display:none;\">\n",
              "        \n",
              "  <svg xmlns=\"http://www.w3.org/2000/svg\" height=\"24px\"viewBox=\"0 0 24 24\"\n",
              "       width=\"24px\">\n",
              "    <path d=\"M0 0h24v24H0V0z\" fill=\"none\"/>\n",
              "    <path d=\"M18.56 5.44l.94 2.06.94-2.06 2.06-.94-2.06-.94-.94-2.06-.94 2.06-2.06.94zm-11 1L8.5 8.5l.94-2.06 2.06-.94-2.06-.94L8.5 2.5l-.94 2.06-2.06.94zm10 10l.94 2.06.94-2.06 2.06-.94-2.06-.94-.94-2.06-.94 2.06-2.06.94z\"/><path d=\"M17.41 7.96l-1.37-1.37c-.4-.4-.92-.59-1.43-.59-.52 0-1.04.2-1.43.59L10.3 9.45l-7.72 7.72c-.78.78-.78 2.05 0 2.83L4 21.41c.39.39.9.59 1.41.59.51 0 1.02-.2 1.41-.59l7.78-7.78 2.81-2.81c.8-.78.8-2.07 0-2.86zM5.41 20L4 18.59l7.72-7.72 1.47 1.35L5.41 20z\"/>\n",
              "  </svg>\n",
              "      </button>\n",
              "      \n",
              "  <style>\n",
              "    .colab-df-container {\n",
              "      display:flex;\n",
              "      flex-wrap:wrap;\n",
              "      gap: 12px;\n",
              "    }\n",
              "\n",
              "    .colab-df-convert {\n",
              "      background-color: #E8F0FE;\n",
              "      border: none;\n",
              "      border-radius: 50%;\n",
              "      cursor: pointer;\n",
              "      display: none;\n",
              "      fill: #1967D2;\n",
              "      height: 32px;\n",
              "      padding: 0 0 0 0;\n",
              "      width: 32px;\n",
              "    }\n",
              "\n",
              "    .colab-df-convert:hover {\n",
              "      background-color: #E2EBFA;\n",
              "      box-shadow: 0px 1px 2px rgba(60, 64, 67, 0.3), 0px 1px 3px 1px rgba(60, 64, 67, 0.15);\n",
              "      fill: #174EA6;\n",
              "    }\n",
              "\n",
              "    [theme=dark] .colab-df-convert {\n",
              "      background-color: #3B4455;\n",
              "      fill: #D2E3FC;\n",
              "    }\n",
              "\n",
              "    [theme=dark] .colab-df-convert:hover {\n",
              "      background-color: #434B5C;\n",
              "      box-shadow: 0px 1px 3px 1px rgba(0, 0, 0, 0.15);\n",
              "      filter: drop-shadow(0px 1px 2px rgba(0, 0, 0, 0.3));\n",
              "      fill: #FFFFFF;\n",
              "    }\n",
              "  </style>\n",
              "\n",
              "      <script>\n",
              "        const buttonEl =\n",
              "          document.querySelector('#df-4c2ed1d0-93f8-4c4f-b560-eccdb3303397 button.colab-df-convert');\n",
              "        buttonEl.style.display =\n",
              "          google.colab.kernel.accessAllowed ? 'block' : 'none';\n",
              "\n",
              "        async function convertToInteractive(key) {\n",
              "          const element = document.querySelector('#df-4c2ed1d0-93f8-4c4f-b560-eccdb3303397');\n",
              "          const dataTable =\n",
              "            await google.colab.kernel.invokeFunction('convertToInteractive',\n",
              "                                                     [key], {});\n",
              "          if (!dataTable) return;\n",
              "\n",
              "          const docLinkHtml = 'Like what you see? Visit the ' +\n",
              "            '<a target=\"_blank\" href=https://colab.research.google.com/notebooks/data_table.ipynb>data table notebook</a>'\n",
              "            + ' to learn more about interactive tables.';\n",
              "          element.innerHTML = '';\n",
              "          dataTable['output_type'] = 'display_data';\n",
              "          await google.colab.output.renderOutput(dataTable, element);\n",
              "          const docLink = document.createElement('div');\n",
              "          docLink.innerHTML = docLinkHtml;\n",
              "          element.appendChild(docLink);\n",
              "        }\n",
              "      </script>\n",
              "    </div>\n",
              "  </div>\n",
              "  "
            ]
          },
          "metadata": {},
          "execution_count": 202
        }
      ]
    },
    {
      "cell_type": "code",
      "source": [
        "# Define the word tokenizer\n",
        "tokenizer = Tokenizer()\\\n",
        "  .setInputCols(['sentences'])\\\n",
        "  .setOutputCol('tokens')"
      ],
      "metadata": {
        "colab": {
          "base_uri": "https://localhost:8080/",
          "height": 17
        },
        "id": "WnjIruqwwfPe",
        "outputId": "5445fe35-2809-4db7-d953-fbdd7685a111"
      },
      "execution_count": null,
      "outputs": [
        {
          "output_type": "display_data",
          "data": {
            "text/plain": [
              "<IPython.core.display.HTML object>"
            ],
            "text/html": [
              "\n",
              "  <style>\n",
              "    pre {\n",
              "        white-space: pre-wrap;\n",
              "    }\n",
              "  </style>\n",
              "  "
            ]
          },
          "metadata": {}
        },
        {
          "output_type": "display_data",
          "data": {
            "text/plain": [
              "<IPython.core.display.HTML object>"
            ],
            "text/html": [
              "\n",
              "  <style>\n",
              "    pre {\n",
              "        white-space: pre-wrap;\n",
              "    }\n",
              "  </style>\n",
              "  "
            ]
          },
          "metadata": {}
        },
        {
          "output_type": "display_data",
          "data": {
            "text/plain": [
              "<IPython.core.display.HTML object>"
            ],
            "text/html": [
              "\n",
              "  <style>\n",
              "    pre {\n",
              "        white-space: pre-wrap;\n",
              "    }\n",
              "  </style>\n",
              "  "
            ]
          },
          "metadata": {}
        }
      ]
    },
    {
      "cell_type": "code",
      "source": [
        "# Define the lemmetizer\n",
        "lemmatizer = LemmatizerModel.pretrained()\\\n",
        "  .setInputCols(['tokens'])\\\n",
        "  .setOutputCol('lemma')"
      ],
      "metadata": {
        "colab": {
          "base_uri": "https://localhost:8080/",
          "height": 69
        },
        "id": "GdLr6VWS0M8s",
        "outputId": "63b14660-6718-4d53-8b67-b147f8528b71"
      },
      "execution_count": null,
      "outputs": [
        {
          "output_type": "display_data",
          "data": {
            "text/plain": [
              "<IPython.core.display.HTML object>"
            ],
            "text/html": [
              "\n",
              "  <style>\n",
              "    pre {\n",
              "        white-space: pre-wrap;\n",
              "    }\n",
              "  </style>\n",
              "  "
            ]
          },
          "metadata": {}
        },
        {
          "output_type": "display_data",
          "data": {
            "text/plain": [
              "<IPython.core.display.HTML object>"
            ],
            "text/html": [
              "\n",
              "  <style>\n",
              "    pre {\n",
              "        white-space: pre-wrap;\n",
              "    }\n",
              "  </style>\n",
              "  "
            ]
          },
          "metadata": {}
        },
        {
          "output_type": "display_data",
          "data": {
            "text/plain": [
              "<IPython.core.display.HTML object>"
            ],
            "text/html": [
              "\n",
              "  <style>\n",
              "    pre {\n",
              "        white-space: pre-wrap;\n",
              "    }\n",
              "  </style>\n",
              "  "
            ]
          },
          "metadata": {}
        },
        {
          "output_type": "stream",
          "name": "stdout",
          "text": [
            "lemma_antbnc download started this may take some time.\n",
            "Approximate size to download 907.6 KB\n",
            "[OK!]\n"
          ]
        }
      ]
    },
    {
      "cell_type": "code",
      "source": [
        "# Define the normalizer\n",
        "normalizer = Normalizer()\\\n",
        "  .setInputCols(['lemma'])\\\n",
        "  .setOutputCol('normalized')\\\n",
        "  .setLowercase(True)"
      ],
      "metadata": {
        "colab": {
          "base_uri": "https://localhost:8080/",
          "height": 17
        },
        "id": "CfuPfH5e0Y5E",
        "outputId": "eb5a557f-453f-4b6e-d668-646fe9edb788"
      },
      "execution_count": null,
      "outputs": [
        {
          "output_type": "display_data",
          "data": {
            "text/plain": [
              "<IPython.core.display.HTML object>"
            ],
            "text/html": [
              "\n",
              "  <style>\n",
              "    pre {\n",
              "        white-space: pre-wrap;\n",
              "    }\n",
              "  </style>\n",
              "  "
            ]
          },
          "metadata": {}
        },
        {
          "output_type": "display_data",
          "data": {
            "text/plain": [
              "<IPython.core.display.HTML object>"
            ],
            "text/html": [
              "\n",
              "  <style>\n",
              "    pre {\n",
              "        white-space: pre-wrap;\n",
              "    }\n",
              "  </style>\n",
              "  "
            ]
          },
          "metadata": {}
        },
        {
          "output_type": "display_data",
          "data": {
            "text/plain": [
              "<IPython.core.display.HTML object>"
            ],
            "text/html": [
              "\n",
              "  <style>\n",
              "    pre {\n",
              "        white-space: pre-wrap;\n",
              "    }\n",
              "  </style>\n",
              "  "
            ]
          },
          "metadata": {}
        }
      ]
    },
    {
      "cell_type": "code",
      "source": [
        "# Define the finisher\n",
        "finisher = Finisher()\\\n",
        "  .setInputCols(['normalized'])\\\n",
        "  .setOutputCols(['normalized'])\\\n",
        "  .setOutputAsArray(True)"
      ],
      "metadata": {
        "colab": {
          "base_uri": "https://localhost:8080/",
          "height": 17
        },
        "id": "yg0QUcrT0jwk",
        "outputId": "d5fd8def-e315-430a-e9e9-8043936944e4"
      },
      "execution_count": null,
      "outputs": [
        {
          "output_type": "display_data",
          "data": {
            "text/plain": [
              "<IPython.core.display.HTML object>"
            ],
            "text/html": [
              "\n",
              "  <style>\n",
              "    pre {\n",
              "        white-space: pre-wrap;\n",
              "    }\n",
              "  </style>\n",
              "  "
            ]
          },
          "metadata": {}
        },
        {
          "output_type": "display_data",
          "data": {
            "text/plain": [
              "<IPython.core.display.HTML object>"
            ],
            "text/html": [
              "\n",
              "  <style>\n",
              "    pre {\n",
              "        white-space: pre-wrap;\n",
              "    }\n",
              "  </style>\n",
              "  "
            ]
          },
          "metadata": {}
        },
        {
          "output_type": "display_data",
          "data": {
            "text/plain": [
              "<IPython.core.display.HTML object>"
            ],
            "text/html": [
              "\n",
              "  <style>\n",
              "    pre {\n",
              "        white-space: pre-wrap;\n",
              "    }\n",
              "  </style>\n",
              "  "
            ]
          },
          "metadata": {}
        }
      ]
    },
    {
      "cell_type": "code",
      "source": [
        "# Define the stop words\n",
        "stopwords = set(StopWordsRemover.loadDefaultStopWords('english'))\n",
        "print(stopwords)\n",
        "\n",
        "# Define the stopword remover\n",
        "sw_remover = StopWordsRemover()\\\n",
        "  .setInputCol('normalized')\\\n",
        "  .setOutputCol('filtered')\\\n",
        "  .setStopWords(list(stopwords))"
      ],
      "metadata": {
        "colab": {
          "base_uri": "https://localhost:8080/",
          "height": 208
        },
        "id": "OvHzeajl0rtE",
        "outputId": "6bef204b-9729-49de-af54-bfee84200786"
      },
      "execution_count": null,
      "outputs": [
        {
          "output_type": "display_data",
          "data": {
            "text/plain": [
              "<IPython.core.display.HTML object>"
            ],
            "text/html": [
              "\n",
              "  <style>\n",
              "    pre {\n",
              "        white-space: pre-wrap;\n",
              "    }\n",
              "  </style>\n",
              "  "
            ]
          },
          "metadata": {}
        },
        {
          "output_type": "display_data",
          "data": {
            "text/plain": [
              "<IPython.core.display.HTML object>"
            ],
            "text/html": [
              "\n",
              "  <style>\n",
              "    pre {\n",
              "        white-space: pre-wrap;\n",
              "    }\n",
              "  </style>\n",
              "  "
            ]
          },
          "metadata": {}
        },
        {
          "output_type": "display_data",
          "data": {
            "text/plain": [
              "<IPython.core.display.HTML object>"
            ],
            "text/html": [
              "\n",
              "  <style>\n",
              "    pre {\n",
              "        white-space: pre-wrap;\n",
              "    }\n",
              "  </style>\n",
              "  "
            ]
          },
          "metadata": {}
        },
        {
          "output_type": "stream",
          "name": "stdout",
          "text": [
            "{'nor', \"hasn't\", 'own', 'this', \"here's\", 'my', 'be', 'because', 'can', \"where's\", 'but', 'more', 'doing', 'no', 't', \"i've\", 'here', \"you've\", \"won't\", \"who's\", \"they'd\", 'under', 'were', 'myself', \"what's\", 'she', 'has', \"he'd\", 'off', \"mustn't\", 'these', 'until', 'by', 'just', 'whom', 'herself', 'what', 'ourselves', 'they', 'on', 'or', \"he'll\", 'than', 'up', 'been', \"couldn't\", 'about', 'too', 'below', 'which', 'to', 'himself', 'where', 'during', \"shouldn't\", 'does', 'with', 'out', 'few', \"you'll\", \"wouldn't\", \"we've\", 'not', 'same', \"he's\", 'after', \"they'll\", 'into', 'would', 'do', 'from', 'our', 'over', 'above', 'their', 'as', 'his', 'if', 'the', 'further', 'being', 'only', \"she'd\", \"wasn't\", \"i'm\", \"she's\", 'did', 'itself', 'some', \"when's\", 'should', 'them', 'theirs', 'your', 'when', 'have', 'themselves', \"aren't\", 'could', \"it's\", 'both', 'is', 'any', 'was', 'then', \"you're\", \"can't\", 'had', \"that's\", \"haven't\", 'me', 'you', 'i', 'at', 'am', \"they're\", \"isn't\", 'of', 'yourself', 'all', 's', 'yours', 'and', 'how', 'will', 'hers', 'him', 'most', 'a', 'each', 'so', \"shan't\", \"weren't\", 'ours', 'yourselves', 'why', \"hadn't\", 'we', 'through', 'its', 'those', 'against', \"didn't\", 'cannot', 'there', \"she'll\", 'before', 'don', \"how's\", 'such', \"i'll\", 'who', \"doesn't\", 'very', \"don't\", 'other', 'are', \"you'd\", 'he', 'down', 'her', \"there's\", 'that', 'for', \"we'd\", 'while', \"i'd\", 'it', 'once', 'between', 'an', 'ought', \"they've\", 'in', 'having', 'again', \"why's\", 'now', \"we'll\", \"we're\", \"let's\"}\n"
          ]
        }
      ]
    },
    {
      "cell_type": "code",
      "source": [
        "# Define count vectorizer\n",
        "count_vectorizer = CountVectorizer(\n",
        "  inputCol = 'filtered',\n",
        "  outputCol = 'tf', minDF = 10\n",
        "  )"
      ],
      "metadata": {
        "colab": {
          "base_uri": "https://localhost:8080/",
          "height": 17
        },
        "id": "Dz1aGvsi13jw",
        "outputId": "1a19ca5b-c967-45fe-98e3-967005604df0"
      },
      "execution_count": null,
      "outputs": [
        {
          "output_type": "display_data",
          "data": {
            "text/plain": [
              "<IPython.core.display.HTML object>"
            ],
            "text/html": [
              "\n",
              "  <style>\n",
              "    pre {\n",
              "        white-space: pre-wrap;\n",
              "    }\n",
              "  </style>\n",
              "  "
            ]
          },
          "metadata": {}
        },
        {
          "output_type": "display_data",
          "data": {
            "text/plain": [
              "<IPython.core.display.HTML object>"
            ],
            "text/html": [
              "\n",
              "  <style>\n",
              "    pre {\n",
              "        white-space: pre-wrap;\n",
              "    }\n",
              "  </style>\n",
              "  "
            ]
          },
          "metadata": {}
        },
        {
          "output_type": "display_data",
          "data": {
            "text/plain": [
              "<IPython.core.display.HTML object>"
            ],
            "text/html": [
              "\n",
              "  <style>\n",
              "    pre {\n",
              "        white-space: pre-wrap;\n",
              "    }\n",
              "  </style>\n",
              "  "
            ]
          },
          "metadata": {}
        }
      ]
    },
    {
      "cell_type": "code",
      "source": [
        "# Define TF-IDF\n",
        "tfidf = IDF(\n",
        "  inputCol = 'tf',\n",
        "  outputCol = 'tfidf',\n",
        "  minDocFreq = 10\n",
        "  )"
      ],
      "metadata": {
        "colab": {
          "base_uri": "https://localhost:8080/",
          "height": 17
        },
        "id": "bE5SY9IS2TX0",
        "outputId": "9ee8e0e4-fbc4-4e8c-a33a-19aa3fcc42cb"
      },
      "execution_count": null,
      "outputs": [
        {
          "output_type": "display_data",
          "data": {
            "text/plain": [
              "<IPython.core.display.HTML object>"
            ],
            "text/html": [
              "\n",
              "  <style>\n",
              "    pre {\n",
              "        white-space: pre-wrap;\n",
              "    }\n",
              "  </style>\n",
              "  "
            ]
          },
          "metadata": {}
        },
        {
          "output_type": "display_data",
          "data": {
            "text/plain": [
              "<IPython.core.display.HTML object>"
            ],
            "text/html": [
              "\n",
              "  <style>\n",
              "    pre {\n",
              "        white-space: pre-wrap;\n",
              "    }\n",
              "  </style>\n",
              "  "
            ]
          },
          "metadata": {}
        },
        {
          "output_type": "display_data",
          "data": {
            "text/plain": [
              "<IPython.core.display.HTML object>"
            ],
            "text/html": [
              "\n",
              "  <style>\n",
              "    pre {\n",
              "        white-space: pre-wrap;\n",
              "    }\n",
              "  </style>\n",
              "  "
            ]
          },
          "metadata": {}
        }
      ]
    },
    {
      "cell_type": "code",
      "source": [
        "# Define the pipeline\n",
        "text_processing_pipeline = Pipeline(\n",
        "  stages = [\n",
        "    assembler,\n",
        "    sentence,\n",
        "    tokenizer,\n",
        "    lemmatizer,\n",
        "    normalizer,\n",
        "    finisher,\n",
        "    sw_remover,\n",
        "    count_vectorizer,\n",
        "    tfidf\n",
        "   ])"
      ],
      "metadata": {
        "colab": {
          "base_uri": "https://localhost:8080/",
          "height": 17
        },
        "id": "NAxLStI2259G",
        "outputId": "7d16dd7f-9c4f-45cd-ce23-a9987c087214"
      },
      "execution_count": null,
      "outputs": [
        {
          "output_type": "display_data",
          "data": {
            "text/plain": [
              "<IPython.core.display.HTML object>"
            ],
            "text/html": [
              "\n",
              "  <style>\n",
              "    pre {\n",
              "        white-space: pre-wrap;\n",
              "    }\n",
              "  </style>\n",
              "  "
            ]
          },
          "metadata": {}
        },
        {
          "output_type": "display_data",
          "data": {
            "text/plain": [
              "<IPython.core.display.HTML object>"
            ],
            "text/html": [
              "\n",
              "  <style>\n",
              "    pre {\n",
              "        white-space: pre-wrap;\n",
              "    }\n",
              "  </style>\n",
              "  "
            ]
          },
          "metadata": {}
        },
        {
          "output_type": "display_data",
          "data": {
            "text/plain": [
              "<IPython.core.display.HTML object>"
            ],
            "text/html": [
              "\n",
              "  <style>\n",
              "    pre {\n",
              "        white-space: pre-wrap;\n",
              "    }\n",
              "  </style>\n",
              "  "
            ]
          },
          "metadata": {}
        }
      ]
    },
    {
      "cell_type": "code",
      "source": [
        "# Define a function to convert labels to indices and use it to fit the data\n",
        "label_indexer = StringIndexer(\n",
        "  inputCol = 'topic',\n",
        "  outputCol = 'label').fit(texts)"
      ],
      "metadata": {
        "colab": {
          "base_uri": "https://localhost:8080/",
          "height": 17
        },
        "id": "eBoa0RFu3erM",
        "outputId": "9e54f21f-377b-431e-aa6d-7d7037d32c0b"
      },
      "execution_count": null,
      "outputs": [
        {
          "output_type": "display_data",
          "data": {
            "text/plain": [
              "<IPython.core.display.HTML object>"
            ],
            "text/html": [
              "\n",
              "  <style>\n",
              "    pre {\n",
              "        white-space: pre-wrap;\n",
              "    }\n",
              "  </style>\n",
              "  "
            ]
          },
          "metadata": {}
        },
        {
          "output_type": "display_data",
          "data": {
            "text/plain": [
              "<IPython.core.display.HTML object>"
            ],
            "text/html": [
              "\n",
              "  <style>\n",
              "    pre {\n",
              "        white-space: pre-wrap;\n",
              "    }\n",
              "  </style>\n",
              "  "
            ]
          },
          "metadata": {}
        },
        {
          "output_type": "display_data",
          "data": {
            "text/plain": [
              "<IPython.core.display.HTML object>"
            ],
            "text/html": [
              "\n",
              "  <style>\n",
              "    pre {\n",
              "        white-space: pre-wrap;\n",
              "    }\n",
              "  </style>\n",
              "  "
            ]
          },
          "metadata": {}
        }
      ]
    },
    {
      "cell_type": "code",
      "source": [
        "# Take a look at the indexed labels\n",
        "label_indexer.labels"
      ],
      "metadata": {
        "colab": {
          "base_uri": "https://localhost:8080/",
          "height": 34
        },
        "id": "mUtN3mB2XWXd",
        "outputId": "3a0360dc-9d25-4b3c-a838-584d92128911"
      },
      "execution_count": null,
      "outputs": [
        {
          "output_type": "display_data",
          "data": {
            "text/plain": [
              "<IPython.core.display.HTML object>"
            ],
            "text/html": [
              "\n",
              "  <style>\n",
              "    pre {\n",
              "        white-space: pre-wrap;\n",
              "    }\n",
              "  </style>\n",
              "  "
            ]
          },
          "metadata": {}
        },
        {
          "output_type": "display_data",
          "data": {
            "text/plain": [
              "<IPython.core.display.HTML object>"
            ],
            "text/html": [
              "\n",
              "  <style>\n",
              "    pre {\n",
              "        white-space: pre-wrap;\n",
              "    }\n",
              "  </style>\n",
              "  "
            ]
          },
          "metadata": {}
        },
        {
          "output_type": "display_data",
          "data": {
            "text/plain": [
              "<IPython.core.display.HTML object>"
            ],
            "text/html": [
              "\n",
              "  <style>\n",
              "    pre {\n",
              "        white-space: pre-wrap;\n",
              "    }\n",
              "  </style>\n",
              "  "
            ]
          },
          "metadata": {}
        },
        {
          "output_type": "execute_result",
          "data": {
            "text/plain": [
              "['sport', 'business', 'politics', 'tech', 'entertainment']"
            ]
          },
          "metadata": {},
          "execution_count": 212
        }
      ]
    },
    {
      "cell_type": "code",
      "source": [
        "# Define a function to convert predicted indices to labels\n",
        "prediction_deindexer = IndexToString(\n",
        "  inputCol = 'prediction',\n",
        "  outputCol = 'pred_label',\n",
        "  labels = label_indexer.labels)"
      ],
      "metadata": {
        "colab": {
          "base_uri": "https://localhost:8080/",
          "height": 17
        },
        "id": "-Fkuhmx_WZRI",
        "outputId": "90dff568-7273-4e3a-eb05-0bc496845ee2"
      },
      "execution_count": null,
      "outputs": [
        {
          "output_type": "display_data",
          "data": {
            "text/plain": [
              "<IPython.core.display.HTML object>"
            ],
            "text/html": [
              "\n",
              "  <style>\n",
              "    pre {\n",
              "        white-space: pre-wrap;\n",
              "    }\n",
              "  </style>\n",
              "  "
            ]
          },
          "metadata": {}
        },
        {
          "output_type": "display_data",
          "data": {
            "text/plain": [
              "<IPython.core.display.HTML object>"
            ],
            "text/html": [
              "\n",
              "  <style>\n",
              "    pre {\n",
              "        white-space: pre-wrap;\n",
              "    }\n",
              "  </style>\n",
              "  "
            ]
          },
          "metadata": {}
        },
        {
          "output_type": "display_data",
          "data": {
            "text/plain": [
              "<IPython.core.display.HTML object>"
            ],
            "text/html": [
              "\n",
              "  <style>\n",
              "    pre {\n",
              "        white-space: pre-wrap;\n",
              "    }\n",
              "  </style>\n",
              "  "
            ]
          },
          "metadata": {}
        }
      ]
    },
    {
      "cell_type": "code",
      "source": [
        "# Define a model\n",
        "naive_bayes = NaiveBayes(featuresCol = 'tfidf')"
      ],
      "metadata": {
        "colab": {
          "base_uri": "https://localhost:8080/",
          "height": 17
        },
        "id": "OANuoL_LWu3d",
        "outputId": "a147b488-1433-43dc-b904-dae4b476dfb4"
      },
      "execution_count": null,
      "outputs": [
        {
          "output_type": "display_data",
          "data": {
            "text/plain": [
              "<IPython.core.display.HTML object>"
            ],
            "text/html": [
              "\n",
              "  <style>\n",
              "    pre {\n",
              "        white-space: pre-wrap;\n",
              "    }\n",
              "  </style>\n",
              "  "
            ]
          },
          "metadata": {}
        },
        {
          "output_type": "display_data",
          "data": {
            "text/plain": [
              "<IPython.core.display.HTML object>"
            ],
            "text/html": [
              "\n",
              "  <style>\n",
              "    pre {\n",
              "        white-space: pre-wrap;\n",
              "    }\n",
              "  </style>\n",
              "  "
            ]
          },
          "metadata": {}
        },
        {
          "output_type": "display_data",
          "data": {
            "text/plain": [
              "<IPython.core.display.HTML object>"
            ],
            "text/html": [
              "\n",
              "  <style>\n",
              "    pre {\n",
              "        white-space: pre-wrap;\n",
              "    }\n",
              "  </style>\n",
              "  "
            ]
          },
          "metadata": {}
        }
      ]
    },
    {
      "cell_type": "code",
      "source": [
        "# Define the overall pipeline\n",
        "pipeline = Pipeline(\n",
        "  stages = [\n",
        "    text_processing_pipeline,\n",
        "    label_indexer,\n",
        "    naive_bayes,\n",
        "    prediction_deindexer\n",
        "  ])"
      ],
      "metadata": {
        "colab": {
          "base_uri": "https://localhost:8080/",
          "height": 17
        },
        "id": "LWOwK6rWW2zm",
        "outputId": "d784bd37-890e-4214-a995-455eb6e903ee"
      },
      "execution_count": null,
      "outputs": [
        {
          "output_type": "display_data",
          "data": {
            "text/plain": [
              "<IPython.core.display.HTML object>"
            ],
            "text/html": [
              "\n",
              "  <style>\n",
              "    pre {\n",
              "        white-space: pre-wrap;\n",
              "    }\n",
              "  </style>\n",
              "  "
            ]
          },
          "metadata": {}
        },
        {
          "output_type": "display_data",
          "data": {
            "text/plain": [
              "<IPython.core.display.HTML object>"
            ],
            "text/html": [
              "\n",
              "  <style>\n",
              "    pre {\n",
              "        white-space: pre-wrap;\n",
              "    }\n",
              "  </style>\n",
              "  "
            ]
          },
          "metadata": {}
        },
        {
          "output_type": "display_data",
          "data": {
            "text/plain": [
              "<IPython.core.display.HTML object>"
            ],
            "text/html": [
              "\n",
              "  <style>\n",
              "    pre {\n",
              "        white-space: pre-wrap;\n",
              "    }\n",
              "  </style>\n",
              "  "
            ]
          },
          "metadata": {}
        }
      ]
    },
    {
      "cell_type": "code",
      "source": [
        "# Train the model\n",
        "model = pipeline.fit(train)"
      ],
      "metadata": {
        "colab": {
          "base_uri": "https://localhost:8080/",
          "height": 17
        },
        "id": "VEYMUlG7XE3O",
        "outputId": "33a22514-b4f4-46d3-d640-95ea56bccd9c"
      },
      "execution_count": null,
      "outputs": [
        {
          "output_type": "display_data",
          "data": {
            "text/plain": [
              "<IPython.core.display.HTML object>"
            ],
            "text/html": [
              "\n",
              "  <style>\n",
              "    pre {\n",
              "        white-space: pre-wrap;\n",
              "    }\n",
              "  </style>\n",
              "  "
            ]
          },
          "metadata": {}
        },
        {
          "output_type": "display_data",
          "data": {
            "text/plain": [
              "<IPython.core.display.HTML object>"
            ],
            "text/html": [
              "\n",
              "  <style>\n",
              "    pre {\n",
              "        white-space: pre-wrap;\n",
              "    }\n",
              "  </style>\n",
              "  "
            ]
          },
          "metadata": {}
        },
        {
          "output_type": "display_data",
          "data": {
            "text/plain": [
              "<IPython.core.display.HTML object>"
            ],
            "text/html": [
              "\n",
              "  <style>\n",
              "    pre {\n",
              "        white-space: pre-wrap;\n",
              "    }\n",
              "  </style>\n",
              "  "
            ]
          },
          "metadata": {}
        }
      ]
    },
    {
      "cell_type": "code",
      "source": [
        "# Make predictions on the train and test sets\n",
        "train_predicted = model.transform(train)\n",
        "test_predicted = model.transform(test)"
      ],
      "metadata": {
        "colab": {
          "base_uri": "https://localhost:8080/",
          "height": 17
        },
        "id": "__CtfENSZBzj",
        "outputId": "07687344-8c2c-46b4-a806-eafaded36729"
      },
      "execution_count": null,
      "outputs": [
        {
          "output_type": "display_data",
          "data": {
            "text/plain": [
              "<IPython.core.display.HTML object>"
            ],
            "text/html": [
              "\n",
              "  <style>\n",
              "    pre {\n",
              "        white-space: pre-wrap;\n",
              "    }\n",
              "  </style>\n",
              "  "
            ]
          },
          "metadata": {}
        },
        {
          "output_type": "display_data",
          "data": {
            "text/plain": [
              "<IPython.core.display.HTML object>"
            ],
            "text/html": [
              "\n",
              "  <style>\n",
              "    pre {\n",
              "        white-space: pre-wrap;\n",
              "    }\n",
              "  </style>\n",
              "  "
            ]
          },
          "metadata": {}
        },
        {
          "output_type": "display_data",
          "data": {
            "text/plain": [
              "<IPython.core.display.HTML object>"
            ],
            "text/html": [
              "\n",
              "  <style>\n",
              "    pre {\n",
              "        white-space: pre-wrap;\n",
              "    }\n",
              "  </style>\n",
              "  "
            ]
          },
          "metadata": {}
        }
      ]
    },
    {
      "cell_type": "code",
      "source": [
        "# Innitiate the F1 score\n",
        "evaluator = MulticlassClassificationEvaluator(metricName = 'f1')"
      ],
      "metadata": {
        "colab": {
          "base_uri": "https://localhost:8080/",
          "height": 17
        },
        "id": "E2E0KDXDZL56",
        "outputId": "7c84b5bc-796d-4e88-ac83-eeb856507be8"
      },
      "execution_count": null,
      "outputs": [
        {
          "output_type": "display_data",
          "data": {
            "text/plain": [
              "<IPython.core.display.HTML object>"
            ],
            "text/html": [
              "\n",
              "  <style>\n",
              "    pre {\n",
              "        white-space: pre-wrap;\n",
              "    }\n",
              "  </style>\n",
              "  "
            ]
          },
          "metadata": {}
        },
        {
          "output_type": "display_data",
          "data": {
            "text/plain": [
              "<IPython.core.display.HTML object>"
            ],
            "text/html": [
              "\n",
              "  <style>\n",
              "    pre {\n",
              "        white-space: pre-wrap;\n",
              "    }\n",
              "  </style>\n",
              "  "
            ]
          },
          "metadata": {}
        },
        {
          "output_type": "display_data",
          "data": {
            "text/plain": [
              "<IPython.core.display.HTML object>"
            ],
            "text/html": [
              "\n",
              "  <style>\n",
              "    pre {\n",
              "        white-space: pre-wrap;\n",
              "    }\n",
              "  </style>\n",
              "  "
            ]
          },
          "metadata": {}
        }
      ]
    },
    {
      "cell_type": "code",
      "source": [
        "# Report the F1 score on the train set\n",
        "print('f1 on train set', evaluator.evaluate(train_predicted))"
      ],
      "metadata": {
        "colab": {
          "base_uri": "https://localhost:8080/",
          "height": 34
        },
        "id": "mloq06DuZRyi",
        "outputId": "cb2de2bb-3ac8-4121-a0c2-1f7fd2d9ab39"
      },
      "execution_count": null,
      "outputs": [
        {
          "output_type": "display_data",
          "data": {
            "text/plain": [
              "<IPython.core.display.HTML object>"
            ],
            "text/html": [
              "\n",
              "  <style>\n",
              "    pre {\n",
              "        white-space: pre-wrap;\n",
              "    }\n",
              "  </style>\n",
              "  "
            ]
          },
          "metadata": {}
        },
        {
          "output_type": "display_data",
          "data": {
            "text/plain": [
              "<IPython.core.display.HTML object>"
            ],
            "text/html": [
              "\n",
              "  <style>\n",
              "    pre {\n",
              "        white-space: pre-wrap;\n",
              "    }\n",
              "  </style>\n",
              "  "
            ]
          },
          "metadata": {}
        },
        {
          "output_type": "display_data",
          "data": {
            "text/plain": [
              "<IPython.core.display.HTML object>"
            ],
            "text/html": [
              "\n",
              "  <style>\n",
              "    pre {\n",
              "        white-space: pre-wrap;\n",
              "    }\n",
              "  </style>\n",
              "  "
            ]
          },
          "metadata": {}
        },
        {
          "output_type": "stream",
          "name": "stdout",
          "text": [
            "f1 on train set 0.9910445983146179\n"
          ]
        }
      ]
    },
    {
      "cell_type": "code",
      "source": [
        "# Report the F1 score on the test set\n",
        "print('f1 on test set', evaluator.evaluate(test_predicted))"
      ],
      "metadata": {
        "colab": {
          "base_uri": "https://localhost:8080/",
          "height": 34
        },
        "id": "X7_r4DtmZlR6",
        "outputId": "13f16d3e-3f85-4138-d82e-cb64552791e1"
      },
      "execution_count": null,
      "outputs": [
        {
          "output_type": "display_data",
          "data": {
            "text/plain": [
              "<IPython.core.display.HTML object>"
            ],
            "text/html": [
              "\n",
              "  <style>\n",
              "    pre {\n",
              "        white-space: pre-wrap;\n",
              "    }\n",
              "  </style>\n",
              "  "
            ]
          },
          "metadata": {}
        },
        {
          "output_type": "display_data",
          "data": {
            "text/plain": [
              "<IPython.core.display.HTML object>"
            ],
            "text/html": [
              "\n",
              "  <style>\n",
              "    pre {\n",
              "        white-space: pre-wrap;\n",
              "    }\n",
              "  </style>\n",
              "  "
            ]
          },
          "metadata": {}
        },
        {
          "output_type": "display_data",
          "data": {
            "text/plain": [
              "<IPython.core.display.HTML object>"
            ],
            "text/html": [
              "\n",
              "  <style>\n",
              "    pre {\n",
              "        white-space: pre-wrap;\n",
              "    }\n",
              "  </style>\n",
              "  "
            ]
          },
          "metadata": {}
        },
        {
          "output_type": "stream",
          "name": "stdout",
          "text": [
            "f1 on test set 0.927161970025423\n"
          ]
        }
      ]
    },
    {
      "cell_type": "code",
      "source": [
        "# Define a function to try out different ML models\n",
        "def fit_model(model):\n",
        "\n",
        "  # Define the type of model\n",
        "  model_type = model(featuresCol = 'tfidf')\n",
        "\n",
        "  # Construct the overall pipeline\n",
        "  pipeline = Pipeline(\n",
        "  stages = [\n",
        "    text_processing_pipeline,\n",
        "    label_indexer,\n",
        "    model_type,\n",
        "    prediction_deindexer\n",
        "  ])\n",
        "\n",
        "  # Train the model\n",
        "  model = pipeline.fit(train)\n",
        "\n",
        "  # Make predictions on the train and test sets\n",
        "  train_predicted = model.transform(train)\n",
        "  test_predicted = model.transform(test)\n",
        "\n",
        "  # Innitiate the F1 score\n",
        "  evaluator = MulticlassClassificationEvaluator(metricName = 'f1')\n",
        "\n",
        "  # Report the F1 score on the train set\n",
        "  print(f'{str(model)}: f1 on train set', evaluator.evaluate(train_predicted))\n",
        "\n",
        "  # Report the F1 score on the test set\n",
        "  print(f'{str(model)}: f1 on test set', evaluator.evaluate(test_predicted))"
      ],
      "metadata": {
        "colab": {
          "base_uri": "https://localhost:8080/",
          "height": 17
        },
        "id": "DJWZNIZ4a55o",
        "outputId": "5ab671de-38ae-484e-8ba7-af571f49f1f2"
      },
      "execution_count": null,
      "outputs": [
        {
          "output_type": "display_data",
          "data": {
            "text/plain": [
              "<IPython.core.display.HTML object>"
            ],
            "text/html": [
              "\n",
              "  <style>\n",
              "    pre {\n",
              "        white-space: pre-wrap;\n",
              "    }\n",
              "  </style>\n",
              "  "
            ]
          },
          "metadata": {}
        },
        {
          "output_type": "display_data",
          "data": {
            "text/plain": [
              "<IPython.core.display.HTML object>"
            ],
            "text/html": [
              "\n",
              "  <style>\n",
              "    pre {\n",
              "        white-space: pre-wrap;\n",
              "    }\n",
              "  </style>\n",
              "  "
            ]
          },
          "metadata": {}
        },
        {
          "output_type": "display_data",
          "data": {
            "text/plain": [
              "<IPython.core.display.HTML object>"
            ],
            "text/html": [
              "\n",
              "  <style>\n",
              "    pre {\n",
              "        white-space: pre-wrap;\n",
              "    }\n",
              "  </style>\n",
              "  "
            ]
          },
          "metadata": {}
        }
      ]
    },
    {
      "cell_type": "code",
      "source": [
        "# Fit a logistic regression\n",
        "fit_model(LogisticRegression)"
      ],
      "metadata": {
        "colab": {
          "base_uri": "https://localhost:8080/",
          "height": 52
        },
        "id": "-O7hPdjicVX2",
        "outputId": "22654c34-9fce-4696-d3ed-c6b7c9f671df"
      },
      "execution_count": null,
      "outputs": [
        {
          "output_type": "display_data",
          "data": {
            "text/plain": [
              "<IPython.core.display.HTML object>"
            ],
            "text/html": [
              "\n",
              "  <style>\n",
              "    pre {\n",
              "        white-space: pre-wrap;\n",
              "    }\n",
              "  </style>\n",
              "  "
            ]
          },
          "metadata": {}
        },
        {
          "output_type": "display_data",
          "data": {
            "text/plain": [
              "<IPython.core.display.HTML object>"
            ],
            "text/html": [
              "\n",
              "  <style>\n",
              "    pre {\n",
              "        white-space: pre-wrap;\n",
              "    }\n",
              "  </style>\n",
              "  "
            ]
          },
          "metadata": {}
        },
        {
          "output_type": "display_data",
          "data": {
            "text/plain": [
              "<IPython.core.display.HTML object>"
            ],
            "text/html": [
              "\n",
              "  <style>\n",
              "    pre {\n",
              "        white-space: pre-wrap;\n",
              "    }\n",
              "  </style>\n",
              "  "
            ]
          },
          "metadata": {}
        },
        {
          "output_type": "stream",
          "name": "stdout",
          "text": [
            "PipelineModel_85c188ba6293: f1 on train set 1.0\n",
            "PipelineModel_85c188ba6293: f1 on test set 0.922376158577747\n"
          ]
        }
      ]
    },
    {
      "cell_type": "code",
      "source": [
        "# Fit a random forest classifier\n",
        "fit_model(RandomForestClassifier)"
      ],
      "metadata": {
        "colab": {
          "base_uri": "https://localhost:8080/",
          "height": 52
        },
        "id": "jFy_2lOedBJs",
        "outputId": "71180cfe-39b9-4b16-c91c-d1f02f832418"
      },
      "execution_count": null,
      "outputs": [
        {
          "output_type": "display_data",
          "data": {
            "text/plain": [
              "<IPython.core.display.HTML object>"
            ],
            "text/html": [
              "\n",
              "  <style>\n",
              "    pre {\n",
              "        white-space: pre-wrap;\n",
              "    }\n",
              "  </style>\n",
              "  "
            ]
          },
          "metadata": {}
        },
        {
          "output_type": "display_data",
          "data": {
            "text/plain": [
              "<IPython.core.display.HTML object>"
            ],
            "text/html": [
              "\n",
              "  <style>\n",
              "    pre {\n",
              "        white-space: pre-wrap;\n",
              "    }\n",
              "  </style>\n",
              "  "
            ]
          },
          "metadata": {}
        },
        {
          "output_type": "display_data",
          "data": {
            "text/plain": [
              "<IPython.core.display.HTML object>"
            ],
            "text/html": [
              "\n",
              "  <style>\n",
              "    pre {\n",
              "        white-space: pre-wrap;\n",
              "    }\n",
              "  </style>\n",
              "  "
            ]
          },
          "metadata": {}
        },
        {
          "output_type": "stream",
          "name": "stdout",
          "text": [
            "PipelineModel_bbd5b9208695: f1 on train set 0.7941192580748638\n",
            "PipelineModel_bbd5b9208695: f1 on test set 0.7214999913078831\n"
          ]
        }
      ]
    }
  ],
  "metadata": {
    "accelerator": "GPU",
    "colab": {
      "machine_shape": "hm",
      "provenance": []
    },
    "kernelspec": {
      "display_name": "Python 3",
      "name": "python3"
    },
    "language_info": {
      "name": "python"
    },
    "gpuClass": "standard"
  },
  "nbformat": 4,
  "nbformat_minor": 0
}