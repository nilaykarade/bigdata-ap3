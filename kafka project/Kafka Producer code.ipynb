{
 "cells": [
  {
   "cell_type": "code",
   "execution_count": 1,
   "id": "a58ed19f",
   "metadata": {
    "collapsed": true
   },
   "outputs": [
    {
     "name": "stdout",
     "output_type": "stream",
     "text": [
      "Collecting kafka-python\n",
      "  Downloading kafka_python-2.0.2-py2.py3-none-any.whl (246 kB)\n",
      "     -------------------------------------- 246.5/246.5 kB 7.6 MB/s eta 0:00:00\n",
      "Installing collected packages: kafka-python\n",
      "Successfully installed kafka-python-2.0.2\n"
     ]
    },
    {
     "name": "stderr",
     "output_type": "stream",
     "text": [
      "WARNING: Ignoring invalid distribution -yspark (c:\\users\\nilay\\anaconda3\\lib\\site-packages)\n",
      "WARNING: Ignoring invalid distribution -rotobuf (c:\\users\\nilay\\anaconda3\\lib\\site-packages)\n",
      "WARNING: Ignoring invalid distribution -ensorflow-intel (c:\\users\\nilay\\anaconda3\\lib\\site-packages)\n",
      "WARNING: Ignoring invalid distribution -yspark (c:\\users\\nilay\\anaconda3\\lib\\site-packages)\n",
      "WARNING: Ignoring invalid distribution -rotobuf (c:\\users\\nilay\\anaconda3\\lib\\site-packages)\n",
      "WARNING: Ignoring invalid distribution -ensorflow-intel (c:\\users\\nilay\\anaconda3\\lib\\site-packages)\n",
      "WARNING: Ignoring invalid distribution -yspark (c:\\users\\nilay\\anaconda3\\lib\\site-packages)\n",
      "WARNING: Ignoring invalid distribution -rotobuf (c:\\users\\nilay\\anaconda3\\lib\\site-packages)\n",
      "WARNING: Ignoring invalid distribution -ensorflow-intel (c:\\users\\nilay\\anaconda3\\lib\\site-packages)\n",
      "WARNING: Ignoring invalid distribution -yspark (c:\\users\\nilay\\anaconda3\\lib\\site-packages)\n",
      "WARNING: Ignoring invalid distribution -rotobuf (c:\\users\\nilay\\anaconda3\\lib\\site-packages)\n",
      "WARNING: Ignoring invalid distribution -ensorflow-intel (c:\\users\\nilay\\anaconda3\\lib\\site-packages)\n",
      "WARNING: Ignoring invalid distribution -yspark (c:\\users\\nilay\\anaconda3\\lib\\site-packages)\n",
      "WARNING: Ignoring invalid distribution -rotobuf (c:\\users\\nilay\\anaconda3\\lib\\site-packages)\n",
      "WARNING: Ignoring invalid distribution -ensorflow-intel (c:\\users\\nilay\\anaconda3\\lib\\site-packages)\n",
      "WARNING: Ignoring invalid distribution -yspark (c:\\users\\nilay\\anaconda3\\lib\\site-packages)\n",
      "WARNING: Ignoring invalid distribution -rotobuf (c:\\users\\nilay\\anaconda3\\lib\\site-packages)\n",
      "WARNING: Ignoring invalid distribution -ensorflow-intel (c:\\users\\nilay\\anaconda3\\lib\\site-packages)\n",
      "WARNING: Ignoring invalid distribution -yspark (c:\\users\\nilay\\anaconda3\\lib\\site-packages)\n",
      "WARNING: Ignoring invalid distribution -rotobuf (c:\\users\\nilay\\anaconda3\\lib\\site-packages)\n",
      "WARNING: Ignoring invalid distribution -ensorflow-intel (c:\\users\\nilay\\anaconda3\\lib\\site-packages)\n"
     ]
    }
   ],
   "source": [
    "!pip install kafka-python"
   ]
  },
  {
   "cell_type": "code",
   "execution_count": 9,
   "id": "19e25b48",
   "metadata": {},
   "outputs": [],
   "source": [
    "from kafka import KafkaProducer\n",
    "from time import sleep\n",
    "import json\n",
    "from datetime import datetime\n"
   ]
  },
  {
   "cell_type": "code",
   "execution_count": 10,
   "id": "0dbcff56",
   "metadata": {},
   "outputs": [],
   "source": [
    "producer=KafkaProducer(bootstrap_servers=['localhost:9092'], api_version=(0, 10, 1))"
   ]
  },
  {
   "cell_type": "code",
   "execution_count": 11,
   "id": "c833622d",
   "metadata": {},
   "outputs": [
    {
     "data": {
      "text/plain": [
       "<kafka.producer.future.FutureRecordMetadata at 0x14bfe516b30>"
      ]
     },
     "execution_count": 11,
     "metadata": {},
     "output_type": "execute_result"
    }
   ],
   "source": [
    "producer.send('test-topic', b'demo msg')\n"
   ]
  },
  {
   "cell_type": "code",
   "execution_count": 12,
   "id": "d73f793f",
   "metadata": {},
   "outputs": [
    {
     "data": {
      "text/plain": [
       "datetime.datetime(2023, 10, 7, 14, 15, 54, 699562)"
      ]
     },
     "execution_count": 12,
     "metadata": {},
     "output_type": "execute_result"
    }
   ],
   "source": [
    "now = datetime.now()\n",
    "now"
   ]
  },
  {
   "cell_type": "code",
   "execution_count": 13,
   "id": "2817b466",
   "metadata": {},
   "outputs": [
    {
     "data": {
      "text/plain": [
       "'07/10/2023 14:15:54'"
      ]
     },
     "execution_count": 13,
     "metadata": {},
     "output_type": "execute_result"
    }
   ],
   "source": [
    "current_time = now.strftime(\"%d/%m/%Y %H:%M:%S\")\n",
    "current_time"
   ]
  },
  {
   "cell_type": "code",
   "execution_count": 23,
   "id": "837db729",
   "metadata": {},
   "outputs": [
    {
     "name": "stderr",
     "output_type": "stream",
     "text": [
      "C:\\Users\\nilay\\AppData\\Local\\Temp\\ipykernel_18652\\2292735367.py:2: DeprecationWarning: This function is deprecated. Please call randint(100, 110 + 1) instead\n",
      "  stock_price=np.random.random_integers(100,110,10)\n"
     ]
    },
    {
     "data": {
      "text/plain": [
       "array([102, 100, 110, 108, 102, 110, 106, 102, 100, 106])"
      ]
     },
     "execution_count": 23,
     "metadata": {},
     "output_type": "execute_result"
    }
   ],
   "source": [
    "import numpy as np\n",
    "stock_price=np.random.random_integers(100,110,10)\n",
    "stock_price"
   ]
  },
  {
   "cell_type": "code",
   "execution_count": 19,
   "id": "32a67520",
   "metadata": {},
   "outputs": [
    {
     "name": "stdout",
     "output_type": "stream",
     "text": [
      "Message sent  0  -  Message 14:48:28.574203\n",
      "Message sent  1  -  Message 14:48:30.582814\n",
      "Message sent  2  -  Message 14:48:32.586322\n",
      "Message sent  3  -  Message 14:48:34.597784\n",
      "Message sent  4  -  Message 14:48:36.602741\n",
      "Message sent  5  -  Message 14:48:38.610205\n",
      "Message sent  6  -  Message 14:48:40.624695\n",
      "Message sent  7  -  Message 14:48:42.629885\n",
      "Message sent  8  -  Message 14:48:44.647842\n",
      "Message sent  9  -  Message 14:48:46.653660\n"
     ]
    }
   ],
   "source": [
    "for i in range(20):\n",
    "    message=\"Stock price: {} at {}\".format(str(stock_price[i]),str(datetime.now().time())) \n",
    "    producer.send('test-topic', json.dumps (message).encode('utf-8'))\n",
    "    sleep (1)\n",
    "    print(\"Message sent \",i,\" - \",message)\n"
   ]
  },
  {
   "cell_type": "code",
   "execution_count": null,
   "id": "c249d676",
   "metadata": {},
   "outputs": [],
   "source": [
    "producer.close()"
   ]
  }
 ],
 "metadata": {
  "kernelspec": {
   "display_name": "Python 3 (ipykernel)",
   "language": "python",
   "name": "python3"
  },
  "language_info": {
   "codemirror_mode": {
    "name": "ipython",
    "version": 3
   },
   "file_extension": ".py",
   "mimetype": "text/x-python",
   "name": "python",
   "nbconvert_exporter": "python",
   "pygments_lexer": "ipython3",
   "version": "3.10.9"
  }
 },
 "nbformat": 4,
 "nbformat_minor": 5
}
