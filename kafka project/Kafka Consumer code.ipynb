{
 "cells": [
  {
   "cell_type": "code",
   "execution_count": 1,
   "id": "baf6c02a",
   "metadata": {},
   "outputs": [],
   "source": [
    "from kafka import KafkaConsumer \n",
    "from json import loads \n",
    "import json"
   ]
  },
  {
   "cell_type": "code",
   "execution_count": null,
   "id": "b0ba1b46",
   "metadata": {},
   "outputs": [
    {
     "name": "stdout",
     "output_type": "stream",
     "text": [
      "b'\"Message 14:48:09.333624\"'\n",
      "b'\"Message 14:48:11.335859\"'\n",
      "b'\"Message 14:48:28.574203\"'\n",
      "b'\"Message 14:48:30.582814\"'\n",
      "b'\"Message 14:48:32.586322\"'\n",
      "b'\"Message 14:48:34.597784\"'\n",
      "b'\"Message 14:48:36.602741\"'\n",
      "b'\"Message 14:48:38.610205\"'\n",
      "b'\"Message 14:48:40.624695\"'\n",
      "b'\"Message 14:48:42.629885\"'\n",
      "b'\"Message 14:48:44.647842\"'\n",
      "b'\"Message 14:48:46.653660\"'\n"
     ]
    }
   ],
   "source": [
    "\n",
    "consumer = KafkaConsumer ('test-topic',\n",
    "                          bootstrap_servers=['localhost:9092'], \n",
    "                          api_version=(0, 10))\n",
    "for message in consumer:\n",
    "    print (message.value)"
   ]
  },
  {
   "cell_type": "code",
   "execution_count": null,
   "id": "7113e7cc",
   "metadata": {},
   "outputs": [],
   "source": []
  },
  {
   "cell_type": "code",
   "execution_count": null,
   "id": "d229b106",
   "metadata": {},
   "outputs": [],
   "source": []
  }
 ],
 "metadata": {
  "kernelspec": {
   "display_name": "Python 3 (ipykernel)",
   "language": "python",
   "name": "python3"
  },
  "language_info": {
   "codemirror_mode": {
    "name": "ipython",
    "version": 3
   },
   "file_extension": ".py",
   "mimetype": "text/x-python",
   "name": "python",
   "nbconvert_exporter": "python",
   "pygments_lexer": "ipython3",
   "version": "3.10.9"
  }
 },
 "nbformat": 4,
 "nbformat_minor": 5
}
